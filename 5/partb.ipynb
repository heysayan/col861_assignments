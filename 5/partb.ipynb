{
 "cells": [
  {
   "cell_type": "code",
   "execution_count": 50,
   "id": "e445b87e",
   "metadata": {},
   "outputs": [],
   "source": [
    "from qiskit import QuantumCircuit, QuantumRegister, ClassicalRegister\n",
    "from qiskit.visualization import plot_histogram\n",
    "from qiskit_aer import AerSimulator\n",
    "#from qiskit_aer.library import save_statevector\n",
    "from qiskit.transpiler.preset_passmanagers import generate_preset_pass_manager\n",
    "import numpy as np\n",
    "from qiskit.quantum_info import Statevector"
   ]
  },
  {
   "cell_type": "code",
   "execution_count": 51,
   "id": "be7da994",
   "metadata": {},
   "outputs": [],
   "source": [
    "np.random.seed(42)"
   ]
  },
  {
   "cell_type": "markdown",
   "id": "0a884161",
   "metadata": {},
   "source": [
    "# Defining relevant methods for shor's code\n",
    "Note that this implementation, does not use ancillary bits to detect which qubit is bit/phase flipped, i.e without stabilizer measurement (8 qubits saved), but rather just detects and correct the main qubit."
   ]
  },
  {
   "cell_type": "code",
   "execution_count": 52,
   "id": "e0866352",
   "metadata": {},
   "outputs": [],
   "source": [
    "def bit_flip_encode(qc,qubits):\n",
    "    \"encodes the bit flip code, 2nd 3rd index of qubits are the added physical qubits\"\n",
    "    qc.cx(qubits[0], qubits[1])\n",
    "    qc.cx(qubits[0], qubits[2])\n",
    "def phase_flip_encode(qc,qubits):\n",
    "    \"encodes the phase flip code, 2nd 3rd index of qubits are the added physical qubits\"\n",
    "    bit_flip_encode(qc,qubits)\n",
    "    qc.h(qubits)\n",
    "def bit_flip_detect_correct(qc,qubits):\n",
    "    \"detects and corrects the bit flip on first qubit\"\n",
    "    qc.cx(qubits[0], qubits[1])\n",
    "    qc.cx(qubits[0], qubits[2])\n",
    "    qc.ccx(qubits[1], qubits[2], qubits[0])\n",
    "\n",
    "def phase_flip_detect_correct(qc,qubits):\n",
    "    \"detects and corrects the phase flip on first qubit\"\n",
    "    qc.h(qubits)\n",
    "    qc.cx(qubits[0], qubits[1])\n",
    "    qc.cx(qubits[0], qubits[2])\n",
    "    qc.ccx(qubits[1], qubits[2], qubits[0])"
   ]
  },
  {
   "cell_type": "markdown",
   "id": "01f1fd2c",
   "metadata": {},
   "source": [
    "# Shor's code to protect from bit and phase flip errors\n",
    "It is a combination of bit flip and phase flip detector and correctors circuits used in part A."
   ]
  },
  {
   "cell_type": "code",
   "execution_count": 53,
   "id": "e08dd754",
   "metadata": {},
   "outputs": [
    {
     "data": {
      "text/html": [
       "<pre style=\"word-wrap: normal;white-space: pre;background: #fff0;line-height: 1.1;font-family: &quot;Courier New&quot;,Courier,monospace\">     ┌─────────┐┌─────────┐┌─────────┐ initial state           ┌───┐»\n",
       "q_0: ┤ Rx(π/8) ├┤ Ry(π/5) ├┤ Rz(π/6) ├───────░─────────■────■──┤ H ├»\n",
       "     └─────────┘└─────────┘└─────────┘       ░         │    │  └───┘»\n",
       "q_1: ────────────────────────────────────────░─────────┼────┼───────»\n",
       "                                             ░         │    │       »\n",
       "q_2: ────────────────────────────────────────░─────────┼────┼───────»\n",
       "                                             ░       ┌─┴─┐  │  ┌───┐»\n",
       "q_3: ────────────────────────────────────────░───────┤ X ├──┼──┤ H ├»\n",
       "                                             ░       └───┘  │  └───┘»\n",
       "q_4: ────────────────────────────────────────░──────────────┼───────»\n",
       "                                             ░              │       »\n",
       "q_5: ────────────────────────────────────────░──────────────┼───────»\n",
       "                                             ░            ┌─┴─┐┌───┐»\n",
       "q_6: ────────────────────────────────────────░────────────┤ X ├┤ H ├»\n",
       "                                             ░            └───┘└───┘»\n",
       "q_7: ────────────────────────────────────────░──────────────────────»\n",
       "                                             ░                      »\n",
       "q_8: ────────────────────────────────────────░──────────────────────»\n",
       "                                             ░                      »\n",
       "«      after phase encoding            after bit encoding       after error »\n",
       "«q_0: ──────────░─────────────■────■───────────░─────────────────────░──────»\n",
       "«               ░           ┌─┴─┐  │           ░                     ░      »\n",
       "«q_1: ──────────░───────────┤ X ├──┼───────────░─────────────────────░──────»\n",
       "«               ░           └───┘┌─┴─┐         ░          ┌───┐      ░      »\n",
       "«q_2: ──────────░────────────────┤ X ├─────────░──────────┤ Y ├──────░──────»\n",
       "«               ░                └───┘         ░          └───┘      ░      »\n",
       "«q_3: ──────────░─────────────■────■───────────░─────────────────────░──────»\n",
       "«               ░           ┌─┴─┐  │           ░                     ░      »\n",
       "«q_4: ──────────░───────────┤ X ├──┼───────────░─────────────────────░──────»\n",
       "«               ░           └───┘┌─┴─┐         ░                     ░      »\n",
       "«q_5: ──────────░────────────────┤ X ├─────────░─────────────────────░──────»\n",
       "«               ░                └───┘         ░                     ░      »\n",
       "«q_6: ──────────░─────────────■────■───────────░─────────────────────░──────»\n",
       "«               ░           ┌─┴─┐  │           ░                     ░      »\n",
       "«q_7: ──────────░───────────┤ X ├──┼───────────░─────────────────────░──────»\n",
       "«               ░           └───┘┌─┴─┐         ░                     ░      »\n",
       "«q_8: ──────────░────────────────┤ X ├─────────░─────────────────────░──────»\n",
       "«               ░                └───┘         ░                     ░      »\n",
       "«               ┌───┐ after bit flip correction ┌───┐          ┌───┐»\n",
       "«q_0: ──■────■──┤ X ├─────────────░─────────────┤ H ├──■────■──┤ X ├»\n",
       "«     ┌─┴─┐  │  └─┬─┘             ░             └───┘  │    │  └─┬─┘»\n",
       "«q_1: ┤ X ├──┼────■───────────────░────────────────────┼────┼────┼──»\n",
       "«     └───┘┌─┴─┐  │               ░                    │    │    │  »\n",
       "«q_2: ─────┤ X ├──■───────────────░────────────────────┼────┼────┼──»\n",
       "«          └───┘┌───┐             ░             ┌───┐┌─┴─┐  │    │  »\n",
       "«q_3: ──■────■──┤ X ├─────────────░─────────────┤ H ├┤ X ├──┼────■──»\n",
       "«     ┌─┴─┐  │  └─┬─┘             ░             └───┘└───┘  │    │  »\n",
       "«q_4: ┤ X ├──┼────■───────────────░─────────────────────────┼────┼──»\n",
       "«     └───┘┌─┴─┐  │               ░                         │    │  »\n",
       "«q_5: ─────┤ X ├──■───────────────░─────────────────────────┼────┼──»\n",
       "«          └───┘┌───┐             ░             ┌───┐     ┌─┴─┐  │  »\n",
       "«q_6: ──■────■──┤ X ├─────────────░─────────────┤ H ├─────┤ X ├──■──»\n",
       "«     ┌─┴─┐  │  └─┬─┘             ░             └───┘     └───┘     »\n",
       "«q_7: ┤ X ├──┼────■───────────────░─────────────────────────────────»\n",
       "«     └───┘┌─┴─┐  │               ░                                 »\n",
       "«q_8: ─────┤ X ├──■───────────────░─────────────────────────────────»\n",
       "«          └───┘                  ░                                 »\n",
       "«      after phase flip correction \n",
       "«q_0: ──────────────░──────────────\n",
       "«                   ░              \n",
       "«q_1: ──────────────░──────────────\n",
       "«                   ░              \n",
       "«q_2: ──────────────░──────────────\n",
       "«                   ░              \n",
       "«q_3: ──────────────░──────────────\n",
       "«                   ░              \n",
       "«q_4: ──────────────░──────────────\n",
       "«                   ░              \n",
       "«q_5: ──────────────░──────────────\n",
       "«                   ░              \n",
       "«q_6: ──────────────░──────────────\n",
       "«                   ░              \n",
       "«q_7: ──────────────░──────────────\n",
       "«                   ░              \n",
       "«q_8: ──────────────░──────────────\n",
       "«                   ░              </pre>"
      ],
      "text/plain": [
       "     ┌─────────┐┌─────────┐┌─────────┐ initial state           ┌───┐»\n",
       "q_0: ┤ Rx(π/8) ├┤ Ry(π/5) ├┤ Rz(π/6) ├───────░─────────■────■──┤ H ├»\n",
       "     └─────────┘└─────────┘└─────────┘       ░         │    │  └───┘»\n",
       "q_1: ────────────────────────────────────────░─────────┼────┼───────»\n",
       "                                             ░         │    │       »\n",
       "q_2: ────────────────────────────────────────░─────────┼────┼───────»\n",
       "                                             ░       ┌─┴─┐  │  ┌───┐»\n",
       "q_3: ────────────────────────────────────────░───────┤ X ├──┼──┤ H ├»\n",
       "                                             ░       └───┘  │  └───┘»\n",
       "q_4: ────────────────────────────────────────░──────────────┼───────»\n",
       "                                             ░              │       »\n",
       "q_5: ────────────────────────────────────────░──────────────┼───────»\n",
       "                                             ░            ┌─┴─┐┌───┐»\n",
       "q_6: ────────────────────────────────────────░────────────┤ X ├┤ H ├»\n",
       "                                             ░            └───┘└───┘»\n",
       "q_7: ────────────────────────────────────────░──────────────────────»\n",
       "                                             ░                      »\n",
       "q_8: ────────────────────────────────────────░──────────────────────»\n",
       "                                             ░                      »\n",
       "«      after phase encoding            after bit encoding       after error »\n",
       "«q_0: ──────────░─────────────■────■───────────░─────────────────────░──────»\n",
       "«               ░           ┌─┴─┐  │           ░                     ░      »\n",
       "«q_1: ──────────░───────────┤ X ├──┼───────────░─────────────────────░──────»\n",
       "«               ░           └───┘┌─┴─┐         ░          ┌───┐      ░      »\n",
       "«q_2: ──────────░────────────────┤ X ├─────────░──────────┤ Y ├──────░──────»\n",
       "«               ░                └───┘         ░          └───┘      ░      »\n",
       "«q_3: ──────────░─────────────■────■───────────░─────────────────────░──────»\n",
       "«               ░           ┌─┴─┐  │           ░                     ░      »\n",
       "«q_4: ──────────░───────────┤ X ├──┼───────────░─────────────────────░──────»\n",
       "«               ░           └───┘┌─┴─┐         ░                     ░      »\n",
       "«q_5: ──────────░────────────────┤ X ├─────────░─────────────────────░──────»\n",
       "«               ░                └───┘         ░                     ░      »\n",
       "«q_6: ──────────░─────────────■────■───────────░─────────────────────░──────»\n",
       "«               ░           ┌─┴─┐  │           ░                     ░      »\n",
       "«q_7: ──────────░───────────┤ X ├──┼───────────░─────────────────────░──────»\n",
       "«               ░           └───┘┌─┴─┐         ░                     ░      »\n",
       "«q_8: ──────────░────────────────┤ X ├─────────░─────────────────────░──────»\n",
       "«               ░                └───┘         ░                     ░      »\n",
       "«               ┌───┐ after bit flip correction ┌───┐          ┌───┐»\n",
       "«q_0: ──■────■──┤ X ├─────────────░─────────────┤ H ├──■────■──┤ X ├»\n",
       "«     ┌─┴─┐  │  └─┬─┘             ░             └───┘  │    │  └─┬─┘»\n",
       "«q_1: ┤ X ├──┼────■───────────────░────────────────────┼────┼────┼──»\n",
       "«     └───┘┌─┴─┐  │               ░                    │    │    │  »\n",
       "«q_2: ─────┤ X ├──■───────────────░────────────────────┼────┼────┼──»\n",
       "«          └───┘┌───┐             ░             ┌───┐┌─┴─┐  │    │  »\n",
       "«q_3: ──■────■──┤ X ├─────────────░─────────────┤ H ├┤ X ├──┼────■──»\n",
       "«     ┌─┴─┐  │  └─┬─┘             ░             └───┘└───┘  │    │  »\n",
       "«q_4: ┤ X ├──┼────■───────────────░─────────────────────────┼────┼──»\n",
       "«     └───┘┌─┴─┐  │               ░                         │    │  »\n",
       "«q_5: ─────┤ X ├──■───────────────░─────────────────────────┼────┼──»\n",
       "«          └───┘┌───┐             ░             ┌───┐     ┌─┴─┐  │  »\n",
       "«q_6: ──■────■──┤ X ├─────────────░─────────────┤ H ├─────┤ X ├──■──»\n",
       "«     ┌─┴─┐  │  └─┬─┘             ░             └───┘     └───┘     »\n",
       "«q_7: ┤ X ├──┼────■───────────────░─────────────────────────────────»\n",
       "«     └───┘┌─┴─┐  │               ░                                 »\n",
       "«q_8: ─────┤ X ├──■───────────────░─────────────────────────────────»\n",
       "«          └───┘                  ░                                 »\n",
       "«      after phase flip correction \n",
       "«q_0: ──────────────░──────────────\n",
       "«                   ░              \n",
       "«q_1: ──────────────░──────────────\n",
       "«                   ░              \n",
       "«q_2: ──────────────░──────────────\n",
       "«                   ░              \n",
       "«q_3: ──────────────░──────────────\n",
       "«                   ░              \n",
       "«q_4: ──────────────░──────────────\n",
       "«                   ░              \n",
       "«q_5: ──────────────░──────────────\n",
       "«                   ░              \n",
       "«q_6: ──────────────░──────────────\n",
       "«                   ░              \n",
       "«q_7: ──────────────░──────────────\n",
       "«                   ░              \n",
       "«q_8: ──────────────░──────────────\n",
       "«                   ░              "
      ]
     },
     "execution_count": 53,
     "metadata": {},
     "output_type": "execute_result"
    }
   ],
   "source": [
    "# Bit flip code\n",
    "qr1 = QuantumRegister(9, 'q')\n",
    "qc1 = QuantumCircuit(qr1)\n",
    "\n",
    "#preparing random qubit state\n",
    "qc1.rx(np.pi/np.random.randint(2,10),qr1[0])\n",
    "qc1.ry(np.pi/np.random.randint(2,10),qr1[0])\n",
    "qc1.rz(np.pi/np.random.randint(2,10),qr1[0])\n",
    "\n",
    "# encoding for phase flip detection and correction\n",
    "qc1.save_statevector(label=\"initial state\")\n",
    "phase_flip_encode(qc1,qr1[::3])\n",
    "qc1.save_statevector(label=\"after phase encoding\")\n",
    "\n",
    "# further encoding for bit flip detection and correction (at each three consecutive qubits blocks)\n",
    "bit_flip_encode(qc1,qr1[:3])\n",
    "bit_flip_encode(qc1,qr1[3:6])\n",
    "bit_flip_encode(qc1,qr1[6:9])\n",
    "qc1.save_statevector(label=\"after bit encoding\")\n",
    "\n",
    "# introducing error on the anyone qubit\n",
    "qc1.y(qr1[np.random.randint(0,3)])\n",
    "#qc1.z(qr1[np.random.randint(3,6)])\n",
    "#qc1.x(qr1[np.random.randint(6,9)])\n",
    "qc1.save_statevector(label=\"after error\")\n",
    "\n",
    "# bit flip detection and correction\n",
    "bit_flip_detect_correct(qc1,qr1[:3])\n",
    "bit_flip_detect_correct(qc1,qr1[3:6])\n",
    "bit_flip_detect_correct(qc1,qr1[6:9])\n",
    "qc1.save_statevector(label=\"after bit flip correction\")\n",
    "\n",
    "# phase flip detection and correction\n",
    "phase_flip_detect_correct(qc1,qr1[::3])\n",
    "qc1.save_statevector(label=\"after phase flip correction\")\n",
    "\n",
    "qc1.draw(\"text\")"
   ]
  },
  {
   "cell_type": "code",
   "execution_count": 54,
   "id": "f383aa70",
   "metadata": {},
   "outputs": [],
   "source": [
    "sim = AerSimulator(method='statevector')\n",
    "pm = generate_preset_pass_manager(backend=sim)\n",
    "qc1 = pm.run(qc1)\n",
    "res1 = sim.run(qc1).result().data()"
   ]
  },
  {
   "cell_type": "code",
   "execution_count": 55,
   "id": "eb76c928",
   "metadata": {},
   "outputs": [
    {
     "data": {
      "text/latex": [
       "$$(0.9166016714 - 0.1831897849 i) |000000000\\rangle+(0.3407739252 - 0.1007770343 i) |000000001\\rangle$$"
      ],
      "text/plain": [
       "<IPython.core.display.Latex object>"
      ]
     },
     "execution_count": 55,
     "metadata": {},
     "output_type": "execute_result"
    }
   ],
   "source": [
    "res1[\"initial state\"].draw(output=\"latex\")   # main qubit is rightmost"
   ]
  },
  {
   "cell_type": "code",
   "execution_count": 56,
   "id": "ae455fa7",
   "metadata": {},
   "outputs": [
    {
     "data": {
      "text/latex": [
       "$$(0.4445494054 - 0.1003974318 i) |000000000\\rangle+(0.2035858521 - 0.0291373074 i) |000000001\\rangle+(0.2035858521 - 0.0291373074 i) |000001000\\rangle+(0.4445494054 - 0.1003974318 i) |000001001\\rangle+(0.2035858521 - 0.0291373074 i) |001000000\\rangle+(0.4445494054 - 0.1003974318 i) |001000001\\rangle+(0.4445494054 - 0.1003974318 i) |001001000\\rangle+(0.2035858521 - 0.0291373074 i) |001001001\\rangle$$"
      ],
      "text/plain": [
       "<IPython.core.display.Latex object>"
      ]
     },
     "execution_count": 56,
     "metadata": {},
     "output_type": "execute_result"
    }
   ],
   "source": [
    "res1[\"after phase encoding\"].draw(output=\"latex\")"
   ]
  },
  {
   "cell_type": "code",
   "execution_count": 57,
   "id": "4b93034c",
   "metadata": {},
   "outputs": [
    {
     "data": {
      "text/latex": [
       "$$(0.4445494054 - 0.1003974318 i) |000000000\\rangle+(0.2035858521 - 0.0291373074 i) |000000111\\rangle+(0.2035858521 - 0.0291373074 i) |000111000\\rangle+(0.4445494054 - 0.1003974318 i) |000111111\\rangle+(0.2035858521 - 0.0291373074 i) |111000000\\rangle+(0.4445494054 - 0.1003974318 i) |111000111\\rangle+(0.4445494054 - 0.1003974318 i) |111111000\\rangle+(0.2035858521 - 0.0291373074 i) |111111111\\rangle$$"
      ],
      "text/plain": [
       "<IPython.core.display.Latex object>"
      ]
     },
     "execution_count": 57,
     "metadata": {},
     "output_type": "execute_result"
    }
   ],
   "source": [
    "res1[\"after bit encoding\"].draw(output=\"latex\")"
   ]
  },
  {
   "cell_type": "code",
   "execution_count": 58,
   "id": "82cc07cb",
   "metadata": {},
   "outputs": [
    {
     "data": {
      "text/latex": [
       "$$(-0.0291373074 - 0.2035858521 i) |000000011\\rangle+(0.1003974318 + 0.4445494054 i) |000000100\\rangle+(-0.1003974318 - 0.4445494054 i) |000111011\\rangle+(0.0291373074 + 0.2035858521 i) |000111100\\rangle+(-0.1003974318 - 0.4445494054 i) |111000011\\rangle+(0.0291373074 + 0.2035858521 i) |111000100\\rangle+(-0.0291373074 - 0.2035858521 i) |111111011\\rangle+(0.1003974318 + 0.4445494054 i) |111111100\\rangle$$"
      ],
      "text/plain": [
       "<IPython.core.display.Latex object>"
      ]
     },
     "execution_count": 58,
     "metadata": {},
     "output_type": "execute_result"
    }
   ],
   "source": [
    "res1[\"after error\"].draw(output=\"latex\")"
   ]
  },
  {
   "cell_type": "code",
   "execution_count": 59,
   "id": "7f1af334",
   "metadata": {},
   "outputs": [
    {
     "data": {
      "text/latex": [
       "$$(0.1003974318 + 0.4445494054 i) |000000100\\rangle+(-0.0291373074 - 0.2035858521 i) |000000101\\rangle+(0.0291373074 + 0.2035858521 i) |000001100\\rangle+(-0.1003974318 - 0.4445494054 i) |000001101\\rangle+(0.0291373074 + 0.2035858521 i) |001000100\\rangle+(-0.1003974318 - 0.4445494054 i) |001000101\\rangle+(0.1003974318 + 0.4445494054 i) |001001100\\rangle+(-0.0291373074 - 0.2035858521 i) |001001101\\rangle$$"
      ],
      "text/plain": [
       "<IPython.core.display.Latex object>"
      ]
     },
     "execution_count": 59,
     "metadata": {},
     "output_type": "execute_result"
    }
   ],
   "source": [
    "res1[\"after bit flip correction\"].draw(output=\"latex\")"
   ]
  },
  {
   "cell_type": "code",
   "execution_count": 60,
   "id": "ee1176b5",
   "metadata": {},
   "outputs": [
    {
     "data": {
      "text/latex": [
       "$$(0.1831897849 + 0.9166016714 i) |001001100\\rangle+(0.1007770343 + 0.3407739252 i) |001001101\\rangle$$"
      ],
      "text/plain": [
       "<IPython.core.display.Latex object>"
      ]
     },
     "execution_count": 60,
     "metadata": {},
     "output_type": "execute_result"
    }
   ],
   "source": [
    "res1[\"after phase flip correction\"].draw(output=\"latex\")"
   ]
  },
  {
   "cell_type": "markdown",
   "id": "16167936",
   "metadata": {},
   "source": [
    "# CSS code to protect from bit and phase flips\n",
    "The CSS Code encodes 1 logical qubit into 7 physical qubits using the [7,4,3] Hamming code structure"
   ]
  },
  {
   "cell_type": "markdown",
   "id": "7c0f20fe",
   "metadata": {},
   "source": [
    "## Required methods"
   ]
  },
  {
   "cell_type": "code",
   "execution_count": 61,
   "id": "8fef5ac2",
   "metadata": {},
   "outputs": [],
   "source": [
    "def encode_css(qc, qubits):\n",
    "    \" encodes to css code, where first 7 qubits are the encoding qubits and rest are ancillas\"\n",
    "    qc.cx(qubits[0], qubits[1])\n",
    "    qc.cx(qubits[0], qubits[2])\n",
    "    qc.cx(qubits[0], qubits[3])\n",
    "    qc.cx(qubits[1], qubits[4])\n",
    "    qc.cx(qubits[2], qubits[5])\n",
    "    qc.cx(qubits[3], qubits[6])\n",
    "\n",
    "def decode_css(qc, data_qubits):\n",
    "    # Reverse the encoding steps\n",
    "    qc.cx(data_qubits[3], data_qubits[6])\n",
    "    qc.cx(data_qubits[2], data_qubits[5])\n",
    "    qc.cx(data_qubits[1], data_qubits[4])\n",
    "    qc.cx(data_qubits[0], data_qubits[3])\n",
    "    qc.cx(data_qubits[0], data_qubits[2])\n",
    "    qc.cx(data_qubits[0], data_qubits[1])\n",
    "\n",
    "def measure_stabilizers(qc, data_qubits, ancilla_qubits, syndrome_bits):\n",
    "    # X stabilizers (detect phase flips)\n",
    "    x_stabilizers = [\n",
    "        [0, 1, 2, 4],  # X₀X₁X₂X₄\n",
    "        [0, 1, 3, 5],  # X₀X₁X₃X₅\n",
    "        [0, 2, 3, 6]   # X₀X₂X₃X₆\n",
    "    ]\n",
    "    # Z stabilizers (detect bit flips)\n",
    "    z_stabilizers = [\n",
    "        [0, 1, 2, 4],  # Z₀Z₁Z₂Z₄\n",
    "        [0, 1, 3, 5],  # Z₀Z₁Z₃Z₅\n",
    "        [0, 2, 3, 6]   # Z₀Z₂Z₃Z₆\n",
    "    ]\n",
    "    \n",
    "    # Measure X stabilizers\n",
    "    for i, stab in enumerate(x_stabilizers):\n",
    "        qc.reset(ancilla_qubits[i])\n",
    "        for qubit in stab:\n",
    "            qc.cx(ancilla_qubits[i], data_qubits[qubit])\n",
    "        qc.h(ancilla_qubits[i])\n",
    "        qc.measure(ancilla_qubits[i], syndrome_bits[i])\n",
    "    \n",
    "    # Measure Z stabilizers\n",
    "    for i, stab in enumerate(z_stabilizers):\n",
    "        qc.reset(ancilla_qubits[i+3])\n",
    "        for qubit in stab:\n",
    "            qc.cz(ancilla_qubits[i+3], data_qubits[qubit])\n",
    "        qc.measure(ancilla_qubits[i+3], syndrome_bits[i+3])\n",
    "\n",
    "\n",
    "syndrome_table = {\n",
    "    # Format: 's₀s₁s₂s₃s₄s₅' : (error_type, qubit_index)\n",
    "    '000000': ('None', None),\n",
    "    '111000': ('Z', 0),  # Phase-flip on qubit 0\n",
    "    '110000': ('Z', 1),  # Phase-flip on qubit 1\n",
    "    '101000': ('Z', 2),  # Phase-flip on qubit 2\n",
    "    '011000': ('Z', 3),  # Phase-flip on qubit 3\n",
    "    '100000': ('Z', 4),  # Phase-flip on qubit 4\n",
    "    '010000': ('Z', 5),  # Phase-flip on qubit 5\n",
    "    '001000': ('Z', 6),  # Phase-flip on qubit 6\n",
    "    '000111': ('X', 0),  # Bit-flip on qubit 0\n",
    "    '000110': ('X', 1),  # Bit-flip on qubit 1\n",
    "    '000101': ('X', 2),  # Bit-flip on qubit 2\n",
    "    '000011': ('X', 3),  # Bit-flip on qubit 3\n",
    "    '000100': ('X', 4),  # Bit-flip on qubit 4\n",
    "    '000010': ('X', 5),  # Bit-flip on qubit 5\n",
    "    '000001': ('X', 6),  # Bit-flip on qubit 6\n",
    "}\n",
    "\n",
    "def correct_errors(qc,data_qubits, syndrome_bits):\n",
    "    qc.z(data_qubits[0]).c_if(syndrome_bits, 7)\n",
    "    qc.z(data_qubits[1]).c_if(syndrome_bits, 3)\n",
    "    qc.z(data_qubits[2]).c_if(syndrome_bits, 5)\n",
    "    qc.z(data_qubits[3]).c_if(syndrome_bits, 6)\n",
    "    qc.z(data_qubits[4]).c_if(syndrome_bits, 1)\n",
    "    qc.z(data_qubits[5]).c_if(syndrome_bits, 2)\n",
    "    qc.z(data_qubits[6]).c_if(syndrome_bits, 4)\n",
    "\n",
    "    qc.x(data_qubits[0]).c_if(syndrome_bits, 56)\n",
    "    qc.x(data_qubits[1]).c_if(syndrome_bits, 24)\n",
    "    qc.x(data_qubits[2]).c_if(syndrome_bits, 40)\n",
    "    qc.x(data_qubits[3]).c_if(syndrome_bits, 48)\n",
    "    qc.x(data_qubits[4]).c_if(syndrome_bits, 8)\n",
    "    qc.x(data_qubits[5]).c_if(syndrome_bits, 16)\n",
    "    qc.x(data_qubits[6]).c_if(syndrome_bits, 32)\n"
   ]
  },
  {
   "cell_type": "code",
   "execution_count": 62,
   "id": "d701ce86",
   "metadata": {},
   "outputs": [
    {
     "name": "stderr",
     "output_type": "stream",
     "text": [
      "/tmp/ipykernel_8672/3476384616.py:69: DeprecationWarning: The method ``qiskit.circuit.instructionset.InstructionSet.c_if()`` is deprecated as of qiskit 1.3.0. It will be removed in 2.0.0.\n",
      "  qc.z(data_qubits[0]).c_if(syndrome_bits, 7)\n",
      "/tmp/ipykernel_8672/3476384616.py:70: DeprecationWarning: The method ``qiskit.circuit.instructionset.InstructionSet.c_if()`` is deprecated as of qiskit 1.3.0. It will be removed in 2.0.0.\n",
      "  qc.z(data_qubits[1]).c_if(syndrome_bits, 3)\n",
      "/tmp/ipykernel_8672/3476384616.py:71: DeprecationWarning: The method ``qiskit.circuit.instructionset.InstructionSet.c_if()`` is deprecated as of qiskit 1.3.0. It will be removed in 2.0.0.\n",
      "  qc.z(data_qubits[2]).c_if(syndrome_bits, 5)\n",
      "/tmp/ipykernel_8672/3476384616.py:72: DeprecationWarning: The method ``qiskit.circuit.instructionset.InstructionSet.c_if()`` is deprecated as of qiskit 1.3.0. It will be removed in 2.0.0.\n",
      "  qc.z(data_qubits[3]).c_if(syndrome_bits, 6)\n",
      "/tmp/ipykernel_8672/3476384616.py:73: DeprecationWarning: The method ``qiskit.circuit.instructionset.InstructionSet.c_if()`` is deprecated as of qiskit 1.3.0. It will be removed in 2.0.0.\n",
      "  qc.z(data_qubits[4]).c_if(syndrome_bits, 1)\n",
      "/tmp/ipykernel_8672/3476384616.py:74: DeprecationWarning: The method ``qiskit.circuit.instructionset.InstructionSet.c_if()`` is deprecated as of qiskit 1.3.0. It will be removed in 2.0.0.\n",
      "  qc.z(data_qubits[5]).c_if(syndrome_bits, 2)\n",
      "/tmp/ipykernel_8672/3476384616.py:75: DeprecationWarning: The method ``qiskit.circuit.instructionset.InstructionSet.c_if()`` is deprecated as of qiskit 1.3.0. It will be removed in 2.0.0.\n",
      "  qc.z(data_qubits[6]).c_if(syndrome_bits, 4)\n",
      "/tmp/ipykernel_8672/3476384616.py:77: DeprecationWarning: The method ``qiskit.circuit.instructionset.InstructionSet.c_if()`` is deprecated as of qiskit 1.3.0. It will be removed in 2.0.0.\n",
      "  qc.x(data_qubits[0]).c_if(syndrome_bits, 56)\n",
      "/tmp/ipykernel_8672/3476384616.py:78: DeprecationWarning: The method ``qiskit.circuit.instructionset.InstructionSet.c_if()`` is deprecated as of qiskit 1.3.0. It will be removed in 2.0.0.\n",
      "  qc.x(data_qubits[1]).c_if(syndrome_bits, 24)\n",
      "/tmp/ipykernel_8672/3476384616.py:79: DeprecationWarning: The method ``qiskit.circuit.instructionset.InstructionSet.c_if()`` is deprecated as of qiskit 1.3.0. It will be removed in 2.0.0.\n",
      "  qc.x(data_qubits[2]).c_if(syndrome_bits, 40)\n",
      "/tmp/ipykernel_8672/3476384616.py:80: DeprecationWarning: The method ``qiskit.circuit.instructionset.InstructionSet.c_if()`` is deprecated as of qiskit 1.3.0. It will be removed in 2.0.0.\n",
      "  qc.x(data_qubits[3]).c_if(syndrome_bits, 48)\n",
      "/tmp/ipykernel_8672/3476384616.py:81: DeprecationWarning: The method ``qiskit.circuit.instructionset.InstructionSet.c_if()`` is deprecated as of qiskit 1.3.0. It will be removed in 2.0.0.\n",
      "  qc.x(data_qubits[4]).c_if(syndrome_bits, 8)\n",
      "/tmp/ipykernel_8672/3476384616.py:82: DeprecationWarning: The method ``qiskit.circuit.instructionset.InstructionSet.c_if()`` is deprecated as of qiskit 1.3.0. It will be removed in 2.0.0.\n",
      "  qc.x(data_qubits[5]).c_if(syndrome_bits, 16)\n",
      "/tmp/ipykernel_8672/3476384616.py:83: DeprecationWarning: The method ``qiskit.circuit.instructionset.InstructionSet.c_if()`` is deprecated as of qiskit 1.3.0. It will be removed in 2.0.0.\n",
      "  qc.x(data_qubits[6]).c_if(syndrome_bits, 32)\n"
     ]
    },
    {
     "data": {
      "text/html": [
       "<pre style=\"word-wrap: normal;white-space: pre;background: #fff0;line-height: 1.1;font-family: &quot;Courier New&quot;,Courier,monospace\">      ┌─────────┐┌─────────┐┌─────────┐ initial state                          »\n",
       " q_0: ┤ Rx(π/4) ├┤ Ry(π/9) ├┤ Rz(π/6) ├───────░─────────■────■─────────■───────»\n",
       "      └─────────┘└─────────┘└─────────┘       ░       ┌─┴─┐  │         │       »\n",
       " q_1: ────────────────────────────────────────░───────┤ X ├──┼────■────┼───────»\n",
       "                                              ░       └───┘┌─┴─┐  │    │       »\n",
       " q_2: ────────────────────────────────────────░────────────┤ X ├──┼────┼────■──»\n",
       "                                              ░            └───┘  │  ┌─┴─┐  │  »\n",
       " q_3: ────────────────────────────────────────░───────────────────┼──┤ X ├──┼──»\n",
       "                                              ░                 ┌─┴─┐└───┘  │  »\n",
       " q_4: ────────────────────────────────────────░─────────────────┤ X ├───────┼──»\n",
       "                                              ░                 └───┘     ┌─┴─┐»\n",
       " q_5: ────────────────────────────────────────░───────────────────────────┤ X ├»\n",
       "                                              ░                           └───┘»\n",
       " q_6: ────────────────────────────────────────░────────────────────────────────»\n",
       "                                              ░                                »\n",
       " q_7: ────────────────────────────────────────░────────────────────────────────»\n",
       "                                              ░                                »\n",
       " q_8: ────────────────────────────────────────░────────────────────────────────»\n",
       "                                              ░                                »\n",
       " q_9: ────────────────────────────────────────░────────────────────────────────»\n",
       "                                              ░                                »\n",
       "q_10: ────────────────────────────────────────░────────────────────────────────»\n",
       "                                              ░                                »\n",
       "q_11: ────────────────────────────────────────░────────────────────────────────»\n",
       "                                              ░                                »\n",
       "q_12: ────────────────────────────────────────░────────────────────────────────»\n",
       "                                              ░                                »\n",
       " c: 6/═════════════════════════════════════════════════════════════════════════»\n",
       "                                                                               »\n",
       "«            after encoding       after error      ┌───┐     ┌───┐          »\n",
       "« q_0: ────────────░───────────────────░───────────┤ X ├─────┤ X ├──────────»\n",
       "«                  ░                   ░           └─┬─┘┌───┐└─┬─┘     ┌───┐»\n",
       "« q_1: ────────────░───────────────────░─────────────┼──┤ X ├──┼───────┤ X ├»\n",
       "«                  ░                   ░             │  └─┬─┘  │  ┌───┐└─┬─┘»\n",
       "« q_2: ────────────░───────────────────░─────────────┼────┼────┼──┤ X ├──┼──»\n",
       "«                  ░                   ░             │    │    │  └─┬─┘  │  »\n",
       "« q_3: ──■─────────░───────────────────░─────────────┼────┼────┼────┼────┼──»\n",
       "«        │         ░        ┌───┐      ░             │    │    │    │    │  »\n",
       "« q_4: ──┼─────────░────────┤ Y ├──────░─────────────┼────┼────┼────┼────┼──»\n",
       "«        │         ░        └───┘      ░             │    │    │    │    │  »\n",
       "« q_5: ──┼─────────░───────────────────░─────────────┼────┼────┼────┼────┼──»\n",
       "«      ┌─┴─┐       ░                   ░             │    │    │    │    │  »\n",
       "« q_6: ┤ X ├───────░───────────────────░─────────────┼────┼────┼────┼────┼──»\n",
       "«      └───┘       ░                   ░             │    │    │    │    │  »\n",
       "« q_7: ────────────░───────────────────░───────|0>───■────■────┼────■────┼──»\n",
       "«                  ░                   ░                       │         │  »\n",
       "« q_8: ────────────░───────────────────░───────|0>─────────────■─────────■──»\n",
       "«                  ░                   ░                                    »\n",
       "« q_9: ────────────░───────────────────░───────|0>──────────────────────────»\n",
       "«                  ░                   ░                                    »\n",
       "«q_10: ────────────░───────────────────░───────|0>──────────────────────────»\n",
       "«                  ░                   ░                                    »\n",
       "«q_11: ────────────░───────────────────░───────|0>──────────────────────────»\n",
       "«                  ░                   ░                                    »\n",
       "«q_12: ────────────░───────────────────░───────|0>──────────────────────────»\n",
       "«                  ░                   ░                                    »\n",
       "« c: 6/═════════════════════════════════════════════════════════════════════»\n",
       "«                                                                           »\n",
       "«      ┌───┐                                                                »\n",
       "« q_0: ┤ X ├────────────────■────────────────────■─────────────────────■────»\n",
       "«      └─┬─┘                │                    │                     │    »\n",
       "« q_1: ──┼──────────────────┼─────────────────■──┼──────────────────■──┼────»\n",
       "«        │            ┌───┐ │                 │  │                  │  │    »\n",
       "« q_2: ──┼────────────┤ X ├─┼─────────────────┼──┼───────────────■──┼──┼────»\n",
       "«        │       ┌───┐└─┬─┘ │           ┌───┐ │  │               │  │  │    »\n",
       "« q_3: ──┼───────┤ X ├──┼───┼───────────┤ X ├─┼──┼───────────────┼──┼──┼────»\n",
       "«        │  ┌───┐└─┬─┘  │   │           └─┬─┘ │  │               │  │  │    »\n",
       "« q_4: ──┼──┤ X ├──┼────┼───┼─────────────┼───┼──┼───────────────┼──┼──┼────»\n",
       "«        │  └─┬─┘  │    │   │      ┌───┐  │   │  │               │  │  │    »\n",
       "« q_5: ──┼────┼────┼────┼───┼──────┤ X ├──┼───┼──┼───────────────┼──┼──┼────»\n",
       "«        │    │    │    │   │      └─┬─┘  │   │  │         ┌───┐ │  │  │    »\n",
       "« q_6: ──┼────┼────┼────┼───┼────────┼────┼───┼──┼─────────┤ X ├─┼──┼──┼────»\n",
       "«        │    │    │    │   │ ┌───┐  │    │   │  │ ┌─┐     └─┬─┘ │  │  │    »\n",
       "« q_7: ──┼────■────┼────┼───┼─┤ H ├──┼────┼───┼──┼─┤M├───────┼───┼──┼──┼────»\n",
       "«        │         │    │   │ └───┘  │    │   │  │ └╥┘┌───┐  │   │  │  │ ┌─┐»\n",
       "« q_8: ──┼─────────■────┼───┼────────■────┼───┼──┼──╫─┤ H ├──┼───┼──┼──┼─┤M├»\n",
       "«        │              │   │             │   │  │  ║ └───┘  │   │  │  │ └╥┘»\n",
       "« q_9: ──■──────────────■───┼─────────────■───┼──┼──╫────────■───┼──┼──┼──╫─»\n",
       "«                           │                 │  │  ║            │  │  │  ║ »\n",
       "«q_10: ─────────────────────■─────────────────■──┼──╫────────────■──┼──┼──╫─»\n",
       "«                                                │  ║               │  │  ║ »\n",
       "«q_11: ──────────────────────────────────────────■──╫───────────────■──┼──╫─»\n",
       "«                                                   ║                  │  ║ »\n",
       "«q_12: ─────────────────────────────────────────────╫──────────────────■──╫─»\n",
       "«                                                   ║                     ║ »\n",
       "« c: 6/═════════════════════════════════════════════╩═════════════════════╩═»\n",
       "«                                                   0                     1 »\n",
       "«                                          after stabilizer measurement      »\n",
       "« q_0: ─────────────────────────────────────────────────░────────────────────»\n",
       "«                                                       ░                    »\n",
       "« q_1: ─────────────────────────────────────────────────░────────────────────»\n",
       "«                                                       ░                    »\n",
       "« q_2: ────────────■────────────────────────────────────░────────────────────»\n",
       "«                  │                                    ░                    »\n",
       "« q_3: ─────────■──┼───────────■────────────────────────░─────────────────■──»\n",
       "«               │  │           │                        ░                 │  »\n",
       "« q_4: ──────■──┼──┼───────────┼────────────────────────░─────────────────┼──»\n",
       "«            │  │  │           │                        ░                 │  »\n",
       "« q_5: ──────┼──┼──┼────────■──┼────────────────────────░─────────────────┼──»\n",
       "«            │  │  │        │  │                        ░               ┌─┴─┐»\n",
       "« q_6: ──────┼──┼──┼────────┼──┼─────■──────────────────░───────────────┤ X ├»\n",
       "«            │  │  │        │  │     │                  ░               └───┘»\n",
       "« q_7: ──────┼──┼──┼────────┼──┼─────┼──────────────────░────────────────────»\n",
       "«            │  │  │        │  │     │                  ░                    »\n",
       "« q_8: ──────┼──┼──┼────────┼──┼─────┼──────────────────░────────────────────»\n",
       "«      ┌───┐ │  │  │ ┌─┐    │  │     │                  ░                    »\n",
       "« q_9: ┤ H ├─┼──┼──┼─┤M├────┼──┼─────┼──────────────────░────────────────────»\n",
       "«      └───┘ │  │  │ └╥┘┌─┐ │  │     │                  ░                    »\n",
       "«q_10: ──────■──┼──┼──╫─┤M├─┼──┼─────┼──────────────────░────────────────────»\n",
       "«               │  │  ║ └╥┘ │  │ ┌─┐ │                  ░                    »\n",
       "«q_11: ─────────■──┼──╫──╫──■──┼─┤M├─┼──────────────────░────────────────────»\n",
       "«                  │  ║  ║     │ └╥┘ │ ┌─┐              ░                    »\n",
       "«q_12: ────────────■──╫──╫─────■──╫──■─┤M├──────────────░────────────────────»\n",
       "«                     ║  ║        ║    └╥┘              ░                    »\n",
       "« c: 6/═══════════════╩══╩════════╩═════╩════════════════════════════════════»\n",
       "«                     2  3        4     5                                    »\n",
       "«                                after decoding  ┌───┐                      »\n",
       "« q_0: ────────────■────■────■─────────░─────────┤ Z ├──────────────────────»\n",
       "«                  │    │  ┌─┴─┐       ░         └─╥─┘  ┌───┐               »\n",
       "« q_1: ───────■────┼────┼──┤ X ├───────░───────────╫────┤ Z ├───────────────»\n",
       "«             │    │  ┌─┴─┐└───┘       ░           ║    └─╥─┘  ┌───┐        »\n",
       "« q_2: ──■────┼────┼──┤ X ├────────────░───────────╫──────╫────┤ Z ├────────»\n",
       "«        │    │  ┌─┴─┐└───┘            ░           ║      ║    └─╥─┘  ┌───┐ »\n",
       "« q_3: ──┼────┼──┤ X ├─────────────────░───────────╫──────╫──────╫────┤ Z ├─»\n",
       "«        │  ┌─┴─┐└───┘                 ░           ║      ║      ║    └─╥─┘ »\n",
       "« q_4: ──┼──┤ X ├──────────────────────░───────────╫──────╫──────╫──────╫───»\n",
       "«      ┌─┴─┐└───┘                      ░           ║      ║      ║      ║   »\n",
       "« q_5: ┤ X ├───────────────────────────░───────────╫──────╫──────╫──────╫───»\n",
       "«      └───┘                           ░           ║      ║      ║      ║   »\n",
       "« q_6: ────────────────────────────────░───────────╫──────╫──────╫──────╫───»\n",
       "«                                      ░           ║      ║      ║      ║   »\n",
       "« q_7: ────────────────────────────────░───────────╫──────╫──────╫──────╫───»\n",
       "«                                      ░           ║      ║      ║      ║   »\n",
       "« q_8: ────────────────────────────────░───────────╫──────╫──────╫──────╫───»\n",
       "«                                      ░           ║      ║      ║      ║   »\n",
       "« q_9: ────────────────────────────────░───────────╫──────╫──────╫──────╫───»\n",
       "«                                      ░           ║      ║      ║      ║   »\n",
       "«q_10: ────────────────────────────────░───────────╫──────╫──────╫──────╫───»\n",
       "«                                      ░           ║      ║      ║      ║   »\n",
       "«q_11: ────────────────────────────────░───────────╫──────╫──────╫──────╫───»\n",
       "«                                      ░           ║      ║      ║      ║   »\n",
       "«q_12: ────────────────────────────────░───────────╫──────╫──────╫──────╫───»\n",
       "«                                      ░        ┌──╨──┐┌──╨──┐┌──╨──┐┌──╨──┐»\n",
       "« c: 6/═════════════════════════════════════════╡ 0x7 ╞╡ 0x3 ╞╡ 0x5 ╞╡ 0x6 ╞»\n",
       "«                                               └─────┘└─────┘└─────┘└─────┘»\n",
       "«                            ┌───┐                                         »\n",
       "« q_0: ──────────────────────┤ X ├─────────────────────────────────────────»\n",
       "«                            └─╥─┘   ┌───┐                                 »\n",
       "« q_1: ────────────────────────╫─────┤ X ├─────────────────────────────────»\n",
       "«                              ║     └─╥─┘   ┌───┐                         »\n",
       "« q_2: ────────────────────────╫───────╫─────┤ X ├─────────────────────────»\n",
       "«                              ║       ║     └─╥─┘   ┌───┐                 »\n",
       "« q_3: ────────────────────────╫───────╫───────╫─────┤ X ├─────────────────»\n",
       "«       ┌───┐                  ║       ║       ║     └─╥─┘   ┌───┐         »\n",
       "« q_4: ─┤ Z ├──────────────────╫───────╫───────╫───────╫─────┤ X ├─────────»\n",
       "«       └─╥─┘  ┌───┐           ║       ║       ║       ║     └─╥─┘  ┌───┐  »\n",
       "« q_5: ───╫────┤ Z ├───────────╫───────╫───────╫───────╫───────╫────┤ X ├──»\n",
       "«         ║    └─╥─┘  ┌───┐    ║       ║       ║       ║       ║    └─╥─┘  »\n",
       "« q_6: ───╫──────╫────┤ Z ├────╫───────╫───────╫───────╫───────╫──────╫────»\n",
       "«         ║      ║    └─╥─┘    ║       ║       ║       ║       ║      ║    »\n",
       "« q_7: ───╫──────╫──────╫──────╫───────╫───────╫───────╫───────╫──────╫────»\n",
       "«         ║      ║      ║      ║       ║       ║       ║       ║      ║    »\n",
       "« q_8: ───╫──────╫──────╫──────╫───────╫───────╫───────╫───────╫──────╫────»\n",
       "«         ║      ║      ║      ║       ║       ║       ║       ║      ║    »\n",
       "« q_9: ───╫──────╫──────╫──────╫───────╫───────╫───────╫───────╫──────╫────»\n",
       "«         ║      ║      ║      ║       ║       ║       ║       ║      ║    »\n",
       "«q_10: ───╫──────╫──────╫──────╫───────╫───────╫───────╫───────╫──────╫────»\n",
       "«         ║      ║      ║      ║       ║       ║       ║       ║      ║    »\n",
       "«q_11: ───╫──────╫──────╫──────╫───────╫───────╫───────╫───────╫──────╫────»\n",
       "«         ║      ║      ║      ║       ║       ║       ║       ║      ║    »\n",
       "«q_12: ───╫──────╫──────╫──────╫───────╫───────╫───────╫───────╫──────╫────»\n",
       "«      ┌──╨──┐┌──╨──┐┌──╨──┐┌──╨───┐┌──╨───┐┌──╨───┐┌──╨───┐┌──╨──┐┌──╨───┐»\n",
       "« c: 6/╡ 0x1 ╞╡ 0x2 ╞╡ 0x4 ╞╡ 0x38 ╞╡ 0x18 ╞╡ 0x28 ╞╡ 0x30 ╞╡ 0x8 ╞╡ 0x10 ╞»\n",
       "«      └─────┘└─────┘└─────┘└──────┘└──────┘└──────┘└──────┘└─────┘└──────┘»\n",
       "«               after correction \n",
       "« q_0: ────────────────░─────────\n",
       "«                      ░         \n",
       "« q_1: ────────────────░─────────\n",
       "«                      ░         \n",
       "« q_2: ────────────────░─────────\n",
       "«                      ░         \n",
       "« q_3: ────────────────░─────────\n",
       "«                      ░         \n",
       "« q_4: ────────────────░─────────\n",
       "«                      ░         \n",
       "« q_5: ────────────────░─────────\n",
       "«       ┌───┐          ░         \n",
       "« q_6: ─┤ X ├──────────░─────────\n",
       "«       └─╥─┘          ░         \n",
       "« q_7: ───╫────────────░─────────\n",
       "«         ║            ░         \n",
       "« q_8: ───╫────────────░─────────\n",
       "«         ║            ░         \n",
       "« q_9: ───╫────────────░─────────\n",
       "«         ║            ░         \n",
       "«q_10: ───╫────────────░─────────\n",
       "«         ║            ░         \n",
       "«q_11: ───╫────────────░─────────\n",
       "«         ║            ░         \n",
       "«q_12: ───╫────────────░─────────\n",
       "«      ┌──╨───┐        ░         \n",
       "« c: 6/╡ 0x20 ╞══════════════════\n",
       "«      └──────┘                  </pre>"
      ],
      "text/plain": [
       "      ┌─────────┐┌─────────┐┌─────────┐ initial state                          »\n",
       " q_0: ┤ Rx(π/4) ├┤ Ry(π/9) ├┤ Rz(π/6) ├───────░─────────■────■─────────■───────»\n",
       "      └─────────┘└─────────┘└─────────┘       ░       ┌─┴─┐  │         │       »\n",
       " q_1: ────────────────────────────────────────░───────┤ X ├──┼────■────┼───────»\n",
       "                                              ░       └───┘┌─┴─┐  │    │       »\n",
       " q_2: ────────────────────────────────────────░────────────┤ X ├──┼────┼────■──»\n",
       "                                              ░            └───┘  │  ┌─┴─┐  │  »\n",
       " q_3: ────────────────────────────────────────░───────────────────┼──┤ X ├──┼──»\n",
       "                                              ░                 ┌─┴─┐└───┘  │  »\n",
       " q_4: ────────────────────────────────────────░─────────────────┤ X ├───────┼──»\n",
       "                                              ░                 └───┘     ┌─┴─┐»\n",
       " q_5: ────────────────────────────────────────░───────────────────────────┤ X ├»\n",
       "                                              ░                           └───┘»\n",
       " q_6: ────────────────────────────────────────░────────────────────────────────»\n",
       "                                              ░                                »\n",
       " q_7: ────────────────────────────────────────░────────────────────────────────»\n",
       "                                              ░                                »\n",
       " q_8: ────────────────────────────────────────░────────────────────────────────»\n",
       "                                              ░                                »\n",
       " q_9: ────────────────────────────────────────░────────────────────────────────»\n",
       "                                              ░                                »\n",
       "q_10: ────────────────────────────────────────░────────────────────────────────»\n",
       "                                              ░                                »\n",
       "q_11: ────────────────────────────────────────░────────────────────────────────»\n",
       "                                              ░                                »\n",
       "q_12: ────────────────────────────────────────░────────────────────────────────»\n",
       "                                              ░                                »\n",
       " c: 6/═════════════════════════════════════════════════════════════════════════»\n",
       "                                                                               »\n",
       "«            after encoding       after error      ┌───┐     ┌───┐          »\n",
       "« q_0: ────────────░───────────────────░───────────┤ X ├─────┤ X ├──────────»\n",
       "«                  ░                   ░           └─┬─┘┌───┐└─┬─┘     ┌───┐»\n",
       "« q_1: ────────────░───────────────────░─────────────┼──┤ X ├──┼───────┤ X ├»\n",
       "«                  ░                   ░             │  └─┬─┘  │  ┌───┐└─┬─┘»\n",
       "« q_2: ────────────░───────────────────░─────────────┼────┼────┼──┤ X ├──┼──»\n",
       "«                  ░                   ░             │    │    │  └─┬─┘  │  »\n",
       "« q_3: ──■─────────░───────────────────░─────────────┼────┼────┼────┼────┼──»\n",
       "«        │         ░        ┌───┐      ░             │    │    │    │    │  »\n",
       "« q_4: ──┼─────────░────────┤ Y ├──────░─────────────┼────┼────┼────┼────┼──»\n",
       "«        │         ░        └───┘      ░             │    │    │    │    │  »\n",
       "« q_5: ──┼─────────░───────────────────░─────────────┼────┼────┼────┼────┼──»\n",
       "«      ┌─┴─┐       ░                   ░             │    │    │    │    │  »\n",
       "« q_6: ┤ X ├───────░───────────────────░─────────────┼────┼────┼────┼────┼──»\n",
       "«      └───┘       ░                   ░             │    │    │    │    │  »\n",
       "« q_7: ────────────░───────────────────░───────|0>───■────■────┼────■────┼──»\n",
       "«                  ░                   ░                       │         │  »\n",
       "« q_8: ────────────░───────────────────░───────|0>─────────────■─────────■──»\n",
       "«                  ░                   ░                                    »\n",
       "« q_9: ────────────░───────────────────░───────|0>──────────────────────────»\n",
       "«                  ░                   ░                                    »\n",
       "«q_10: ────────────░───────────────────░───────|0>──────────────────────────»\n",
       "«                  ░                   ░                                    »\n",
       "«q_11: ────────────░───────────────────░───────|0>──────────────────────────»\n",
       "«                  ░                   ░                                    »\n",
       "«q_12: ────────────░───────────────────░───────|0>──────────────────────────»\n",
       "«                  ░                   ░                                    »\n",
       "« c: 6/═════════════════════════════════════════════════════════════════════»\n",
       "«                                                                           »\n",
       "«      ┌───┐                                                                »\n",
       "« q_0: ┤ X ├────────────────■────────────────────■─────────────────────■────»\n",
       "«      └─┬─┘                │                    │                     │    »\n",
       "« q_1: ──┼──────────────────┼─────────────────■──┼──────────────────■──┼────»\n",
       "«        │            ┌───┐ │                 │  │                  │  │    »\n",
       "« q_2: ──┼────────────┤ X ├─┼─────────────────┼──┼───────────────■──┼──┼────»\n",
       "«        │       ┌───┐└─┬─┘ │           ┌───┐ │  │               │  │  │    »\n",
       "« q_3: ──┼───────┤ X ├──┼───┼───────────┤ X ├─┼──┼───────────────┼──┼──┼────»\n",
       "«        │  ┌───┐└─┬─┘  │   │           └─┬─┘ │  │               │  │  │    »\n",
       "« q_4: ──┼──┤ X ├──┼────┼───┼─────────────┼───┼──┼───────────────┼──┼──┼────»\n",
       "«        │  └─┬─┘  │    │   │      ┌───┐  │   │  │               │  │  │    »\n",
       "« q_5: ──┼────┼────┼────┼───┼──────┤ X ├──┼───┼──┼───────────────┼──┼──┼────»\n",
       "«        │    │    │    │   │      └─┬─┘  │   │  │         ┌───┐ │  │  │    »\n",
       "« q_6: ──┼────┼────┼────┼───┼────────┼────┼───┼──┼─────────┤ X ├─┼──┼──┼────»\n",
       "«        │    │    │    │   │ ┌───┐  │    │   │  │ ┌─┐     └─┬─┘ │  │  │    »\n",
       "« q_7: ──┼────■────┼────┼───┼─┤ H ├──┼────┼───┼──┼─┤M├───────┼───┼──┼──┼────»\n",
       "«        │         │    │   │ └───┘  │    │   │  │ └╥┘┌───┐  │   │  │  │ ┌─┐»\n",
       "« q_8: ──┼─────────■────┼───┼────────■────┼───┼──┼──╫─┤ H ├──┼───┼──┼──┼─┤M├»\n",
       "«        │              │   │             │   │  │  ║ └───┘  │   │  │  │ └╥┘»\n",
       "« q_9: ──■──────────────■───┼─────────────■───┼──┼──╫────────■───┼──┼──┼──╫─»\n",
       "«                           │                 │  │  ║            │  │  │  ║ »\n",
       "«q_10: ─────────────────────■─────────────────■──┼──╫────────────■──┼──┼──╫─»\n",
       "«                                                │  ║               │  │  ║ »\n",
       "«q_11: ──────────────────────────────────────────■──╫───────────────■──┼──╫─»\n",
       "«                                                   ║                  │  ║ »\n",
       "«q_12: ─────────────────────────────────────────────╫──────────────────■──╫─»\n",
       "«                                                   ║                     ║ »\n",
       "« c: 6/═════════════════════════════════════════════╩═════════════════════╩═»\n",
       "«                                                   0                     1 »\n",
       "«                                          after stabilizer measurement      »\n",
       "« q_0: ─────────────────────────────────────────────────░────────────────────»\n",
       "«                                                       ░                    »\n",
       "« q_1: ─────────────────────────────────────────────────░────────────────────»\n",
       "«                                                       ░                    »\n",
       "« q_2: ────────────■────────────────────────────────────░────────────────────»\n",
       "«                  │                                    ░                    »\n",
       "« q_3: ─────────■──┼───────────■────────────────────────░─────────────────■──»\n",
       "«               │  │           │                        ░                 │  »\n",
       "« q_4: ──────■──┼──┼───────────┼────────────────────────░─────────────────┼──»\n",
       "«            │  │  │           │                        ░                 │  »\n",
       "« q_5: ──────┼──┼──┼────────■──┼────────────────────────░─────────────────┼──»\n",
       "«            │  │  │        │  │                        ░               ┌─┴─┐»\n",
       "« q_6: ──────┼──┼──┼────────┼──┼─────■──────────────────░───────────────┤ X ├»\n",
       "«            │  │  │        │  │     │                  ░               └───┘»\n",
       "« q_7: ──────┼──┼──┼────────┼──┼─────┼──────────────────░────────────────────»\n",
       "«            │  │  │        │  │     │                  ░                    »\n",
       "« q_8: ──────┼──┼──┼────────┼──┼─────┼──────────────────░────────────────────»\n",
       "«      ┌───┐ │  │  │ ┌─┐    │  │     │                  ░                    »\n",
       "« q_9: ┤ H ├─┼──┼──┼─┤M├────┼──┼─────┼──────────────────░────────────────────»\n",
       "«      └───┘ │  │  │ └╥┘┌─┐ │  │     │                  ░                    »\n",
       "«q_10: ──────■──┼──┼──╫─┤M├─┼──┼─────┼──────────────────░────────────────────»\n",
       "«               │  │  ║ └╥┘ │  │ ┌─┐ │                  ░                    »\n",
       "«q_11: ─────────■──┼──╫──╫──■──┼─┤M├─┼──────────────────░────────────────────»\n",
       "«                  │  ║  ║     │ └╥┘ │ ┌─┐              ░                    »\n",
       "«q_12: ────────────■──╫──╫─────■──╫──■─┤M├──────────────░────────────────────»\n",
       "«                     ║  ║        ║    └╥┘              ░                    »\n",
       "« c: 6/═══════════════╩══╩════════╩═════╩════════════════════════════════════»\n",
       "«                     2  3        4     5                                    »\n",
       "«                                after decoding  ┌───┐                      »\n",
       "« q_0: ────────────■────■────■─────────░─────────┤ Z ├──────────────────────»\n",
       "«                  │    │  ┌─┴─┐       ░         └─╥─┘  ┌───┐               »\n",
       "« q_1: ───────■────┼────┼──┤ X ├───────░───────────╫────┤ Z ├───────────────»\n",
       "«             │    │  ┌─┴─┐└───┘       ░           ║    └─╥─┘  ┌───┐        »\n",
       "« q_2: ──■────┼────┼──┤ X ├────────────░───────────╫──────╫────┤ Z ├────────»\n",
       "«        │    │  ┌─┴─┐└───┘            ░           ║      ║    └─╥─┘  ┌───┐ »\n",
       "« q_3: ──┼────┼──┤ X ├─────────────────░───────────╫──────╫──────╫────┤ Z ├─»\n",
       "«        │  ┌─┴─┐└───┘                 ░           ║      ║      ║    └─╥─┘ »\n",
       "« q_4: ──┼──┤ X ├──────────────────────░───────────╫──────╫──────╫──────╫───»\n",
       "«      ┌─┴─┐└───┘                      ░           ║      ║      ║      ║   »\n",
       "« q_5: ┤ X ├───────────────────────────░───────────╫──────╫──────╫──────╫───»\n",
       "«      └───┘                           ░           ║      ║      ║      ║   »\n",
       "« q_6: ────────────────────────────────░───────────╫──────╫──────╫──────╫───»\n",
       "«                                      ░           ║      ║      ║      ║   »\n",
       "« q_7: ────────────────────────────────░───────────╫──────╫──────╫──────╫───»\n",
       "«                                      ░           ║      ║      ║      ║   »\n",
       "« q_8: ────────────────────────────────░───────────╫──────╫──────╫──────╫───»\n",
       "«                                      ░           ║      ║      ║      ║   »\n",
       "« q_9: ────────────────────────────────░───────────╫──────╫──────╫──────╫───»\n",
       "«                                      ░           ║      ║      ║      ║   »\n",
       "«q_10: ────────────────────────────────░───────────╫──────╫──────╫──────╫───»\n",
       "«                                      ░           ║      ║      ║      ║   »\n",
       "«q_11: ────────────────────────────────░───────────╫──────╫──────╫──────╫───»\n",
       "«                                      ░           ║      ║      ║      ║   »\n",
       "«q_12: ────────────────────────────────░───────────╫──────╫──────╫──────╫───»\n",
       "«                                      ░        ┌──╨──┐┌──╨──┐┌──╨──┐┌──╨──┐»\n",
       "« c: 6/═════════════════════════════════════════╡ 0x7 ╞╡ 0x3 ╞╡ 0x5 ╞╡ 0x6 ╞»\n",
       "«                                               └─────┘└─────┘└─────┘└─────┘»\n",
       "«                            ┌───┐                                         »\n",
       "« q_0: ──────────────────────┤ X ├─────────────────────────────────────────»\n",
       "«                            └─╥─┘   ┌───┐                                 »\n",
       "« q_1: ────────────────────────╫─────┤ X ├─────────────────────────────────»\n",
       "«                              ║     └─╥─┘   ┌───┐                         »\n",
       "« q_2: ────────────────────────╫───────╫─────┤ X ├─────────────────────────»\n",
       "«                              ║       ║     └─╥─┘   ┌───┐                 »\n",
       "« q_3: ────────────────────────╫───────╫───────╫─────┤ X ├─────────────────»\n",
       "«       ┌───┐                  ║       ║       ║     └─╥─┘   ┌───┐         »\n",
       "« q_4: ─┤ Z ├──────────────────╫───────╫───────╫───────╫─────┤ X ├─────────»\n",
       "«       └─╥─┘  ┌───┐           ║       ║       ║       ║     └─╥─┘  ┌───┐  »\n",
       "« q_5: ───╫────┤ Z ├───────────╫───────╫───────╫───────╫───────╫────┤ X ├──»\n",
       "«         ║    └─╥─┘  ┌───┐    ║       ║       ║       ║       ║    └─╥─┘  »\n",
       "« q_6: ───╫──────╫────┤ Z ├────╫───────╫───────╫───────╫───────╫──────╫────»\n",
       "«         ║      ║    └─╥─┘    ║       ║       ║       ║       ║      ║    »\n",
       "« q_7: ───╫──────╫──────╫──────╫───────╫───────╫───────╫───────╫──────╫────»\n",
       "«         ║      ║      ║      ║       ║       ║       ║       ║      ║    »\n",
       "« q_8: ───╫──────╫──────╫──────╫───────╫───────╫───────╫───────╫──────╫────»\n",
       "«         ║      ║      ║      ║       ║       ║       ║       ║      ║    »\n",
       "« q_9: ───╫──────╫──────╫──────╫───────╫───────╫───────╫───────╫──────╫────»\n",
       "«         ║      ║      ║      ║       ║       ║       ║       ║      ║    »\n",
       "«q_10: ───╫──────╫──────╫──────╫───────╫───────╫───────╫───────╫──────╫────»\n",
       "«         ║      ║      ║      ║       ║       ║       ║       ║      ║    »\n",
       "«q_11: ───╫──────╫──────╫──────╫───────╫───────╫───────╫───────╫──────╫────»\n",
       "«         ║      ║      ║      ║       ║       ║       ║       ║      ║    »\n",
       "«q_12: ───╫──────╫──────╫──────╫───────╫───────╫───────╫───────╫──────╫────»\n",
       "«      ┌──╨──┐┌──╨──┐┌──╨──┐┌──╨───┐┌──╨───┐┌──╨───┐┌──╨───┐┌──╨──┐┌──╨───┐»\n",
       "« c: 6/╡ 0x1 ╞╡ 0x2 ╞╡ 0x4 ╞╡ 0x38 ╞╡ 0x18 ╞╡ 0x28 ╞╡ 0x30 ╞╡ 0x8 ╞╡ 0x10 ╞»\n",
       "«      └─────┘└─────┘└─────┘└──────┘└──────┘└──────┘└──────┘└─────┘└──────┘»\n",
       "«               after correction \n",
       "« q_0: ────────────────░─────────\n",
       "«                      ░         \n",
       "« q_1: ────────────────░─────────\n",
       "«                      ░         \n",
       "« q_2: ────────────────░─────────\n",
       "«                      ░         \n",
       "« q_3: ────────────────░─────────\n",
       "«                      ░         \n",
       "« q_4: ────────────────░─────────\n",
       "«                      ░         \n",
       "« q_5: ────────────────░─────────\n",
       "«       ┌───┐          ░         \n",
       "« q_6: ─┤ X ├──────────░─────────\n",
       "«       └─╥─┘          ░         \n",
       "« q_7: ───╫────────────░─────────\n",
       "«         ║            ░         \n",
       "« q_8: ───╫────────────░─────────\n",
       "«         ║            ░         \n",
       "« q_9: ───╫────────────░─────────\n",
       "«         ║            ░         \n",
       "«q_10: ───╫────────────░─────────\n",
       "«         ║            ░         \n",
       "«q_11: ───╫────────────░─────────\n",
       "«         ║            ░         \n",
       "«q_12: ───╫────────────░─────────\n",
       "«      ┌──╨───┐        ░         \n",
       "« c: 6/╡ 0x20 ╞══════════════════\n",
       "«      └──────┘                  "
      ]
     },
     "execution_count": 62,
     "metadata": {},
     "output_type": "execute_result"
    }
   ],
   "source": [
    "qr2 = QuantumRegister(13, 'q')\n",
    "cr2 = ClassicalRegister(6, 'c')\n",
    "qc2 = QuantumCircuit(qr2,cr2)\n",
    "\n",
    "# preparing random qubit state\n",
    "qc2.rx(np.pi/np.random.randint(2,10),qr2[0])\n",
    "qc2.ry(np.pi/np.random.randint(2,10),qr2[0])\n",
    "qc2.rz(np.pi/np.random.randint(2,10),qr2[0])\n",
    "qc2.save_statevector(label=\"initial state\")\n",
    "\n",
    "# encoding css code\n",
    "encode_css(qc2,qr2)\n",
    "qc2.save_statevector(label=\"after encoding\")\n",
    "\n",
    "# introducing error( bit and phase flip ) on the anyone qubit\n",
    "qc2.y(qr2[np.random.randint(0,7)])\n",
    "qc2.save_statevector(label=\"after error\")\n",
    "\n",
    "# measuring stabilizers\n",
    "measure_stabilizers(qc2, qr2[:7], qr2[7:], cr2)\n",
    "qc2.save_statevector(label=\"after stabilizer measurement\")\n",
    "\n",
    "# decoding css code\n",
    "decode_css(qc2, qr2[:7])\n",
    "qc2.save_statevector(label=\"after decoding\")\n",
    "\n",
    "# correcting errors\n",
    "correct_errors(qc2, qr2[:7], cr2)\n",
    "qc2.save_statevector(label=\"after correction\")\n",
    "qc2.draw(\"text\")\n",
    "\n"
   ]
  },
  {
   "cell_type": "code",
   "execution_count": 63,
   "id": "4e59b013",
   "metadata": {},
   "outputs": [],
   "source": [
    "sim = AerSimulator(method='statevector')\n",
    "pm = generate_preset_pass_manager(backend=sim)\n",
    "qc2 = pm.run(qc2)\n",
    "res2 = sim.run(qc2).result().data()"
   ]
  },
  {
   "cell_type": "code",
   "execution_count": 64,
   "id": "364b0568",
   "metadata": {},
   "outputs": [
    {
     "data": {
      "text/latex": [
       "$$(0.8960406691 - 0.1712969104 i) |0000000000000\\rangle+(0.2525045105 - 0.3225057519 i) |0000000000001\\rangle$$"
      ],
      "text/plain": [
       "<IPython.core.display.Latex object>"
      ]
     },
     "execution_count": 64,
     "metadata": {},
     "output_type": "execute_result"
    }
   ],
   "source": [
    "res2[\"initial state\"].draw(output=\"latex\")   # main qubit is rightmost"
   ]
  },
  {
   "cell_type": "code",
   "execution_count": 65,
   "id": "ba7177a0",
   "metadata": {},
   "outputs": [
    {
     "data": {
      "text/latex": [
       "$$(0.8960406691 - 0.1712969104 i) |0000000000000\\rangle+(0.2525045105 - 0.3225057519 i) |0000001111111\\rangle$$"
      ],
      "text/plain": [
       "<IPython.core.display.Latex object>"
      ]
     },
     "execution_count": 65,
     "metadata": {},
     "output_type": "execute_result"
    }
   ],
   "source": [
    "res2[\"after encoding\"].draw(output=\"latex\")"
   ]
  },
  {
   "cell_type": "code",
   "execution_count": 66,
   "id": "6229ca22",
   "metadata": {},
   "outputs": [
    {
     "data": {
      "text/latex": [
       "$$(0.1712969104 + 0.8960406691 i) |0000000010000\\rangle+(-0.3225057519 - 0.2525045105 i) |0000001101111\\rangle$$"
      ],
      "text/plain": [
       "<IPython.core.display.Latex object>"
      ]
     },
     "execution_count": 66,
     "metadata": {},
     "output_type": "execute_result"
    }
   ],
   "source": [
    "res2[\"after error\"].draw(output=\"latex\")"
   ]
  },
  {
   "cell_type": "code",
   "execution_count": 67,
   "id": "f098c619",
   "metadata": {},
   "outputs": [
    {
     "data": {
      "text/latex": [
       "$$(0.1712969104 + 0.8960406691 i) |0001010010000\\rangle+(-0.3225057519 - 0.2525045105 i) |0001011101111\\rangle$$"
      ],
      "text/plain": [
       "<IPython.core.display.Latex object>"
      ]
     },
     "execution_count": 67,
     "metadata": {},
     "output_type": "execute_result"
    }
   ],
   "source": [
    "res2[\"after stabilizer measurement\"].draw(output=\"latex\")"
   ]
  },
  {
   "cell_type": "code",
   "execution_count": 68,
   "id": "7029c213",
   "metadata": {},
   "outputs": [
    {
     "data": {
      "text/latex": [
       "$$(0.1712969104 + 0.8960406691 i) |0001010010000\\rangle+(-0.3225057519 - 0.2525045105 i) |0001010010001\\rangle$$"
      ],
      "text/plain": [
       "<IPython.core.display.Latex object>"
      ]
     },
     "execution_count": 68,
     "metadata": {},
     "output_type": "execute_result"
    }
   ],
   "source": [
    "res2[\"after decoding\"].draw(output=\"latex\")"
   ]
  },
  {
   "cell_type": "code",
   "execution_count": 69,
   "id": "3a8094c5",
   "metadata": {},
   "outputs": [
    {
     "data": {
      "text/latex": [
       "$$(0.1712969104 + 0.8960406691 i) |0001010010000\\rangle+(-0.3225057519 - 0.2525045105 i) |0001010010001\\rangle$$"
      ],
      "text/plain": [
       "<IPython.core.display.Latex object>"
      ]
     },
     "execution_count": 69,
     "metadata": {},
     "output_type": "execute_result"
    }
   ],
   "source": [
    "res2[\"after correction\"].draw(output=\"latex\")"
   ]
  },
  {
   "cell_type": "markdown",
   "id": "6ec8e096",
   "metadata": {},
   "source": [
    "# Answers to some theoretical questions\n",
    "## 1: What is a stabilizer code, and how does it relate to the Shor and Steane codes?\n",
    "> - ng Pauli operators to define valid code states. A state $\\ket\\psi_L$ is valid if $S_i \\ket\\psi_L = + 1 \\ket\\psi_L$ for all >stabilizers $S_i$.\n",
    "> - Shor Code: Combines inner 3-qubit phase-flip and outer 3-qubit bit-flip codes. Stabilizers include $Z_i Z_j$ (bit flip >detection) and $X_i X_j X_k X_l$ (phase flip detection).\n",
    "> - Steane Code: A CSS code derived from classical [7,4,3] Hamming code. Stabilizers split into X-type (phase-flip detection) and >Z-type (bit-flip detection).\n",
    "\n",
    "## 2: Compare the Shor Code and the Steane Code. What are the advantages and disadvantages of each?\n",
    "\n",
    "\n",
    "| Feature | Shor code (9 qubits) | CSS code (7 qubits) |\n",
    "| :----------------: | :--------------------: | :-------------------: | \n",
    "| Error correction | Corrects arbitrary single-qubit errors | Corrects X/Z errors separately (CSS structure) |\n",
    "| Qubit overhead   | \tHigh (9 qubits) | Moderate (7 qubits) |\n",
    "| Stabilizers   | Simple (3 Z-type, 2 X-type)   | Complex (6 stabilizers: 3 X, 3 Z) |\n",
    "| Fault Tolerance   |   Less efficient (concatenation)  |   More efficient (parallel X/Z checks) |\n",
    "| Use Case  |   Proof-of-concept    |   Practical implementations |"
   ]
  }
 ],
 "metadata": {
  "kernelspec": {
   "display_name": ".venv",
   "language": "python",
   "name": "python3"
  },
  "language_info": {
   "codemirror_mode": {
    "name": "ipython",
    "version": 3
   },
   "file_extension": ".py",
   "mimetype": "text/x-python",
   "name": "python",
   "nbconvert_exporter": "python",
   "pygments_lexer": "ipython3",
   "version": "3.12.3"
  }
 },
 "nbformat": 4,
 "nbformat_minor": 5
}
