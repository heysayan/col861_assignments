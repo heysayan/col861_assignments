{
 "cells": [
  {
   "cell_type": "code",
   "execution_count": 53,
   "id": "38fb824d",
   "metadata": {},
   "outputs": [],
   "source": [
    "from qiskit import QuantumCircuit, QuantumRegister, ClassicalRegister\n",
    "from qiskit.visualization import plot_histogram\n",
    "from qiskit_aer import AerSimulator\n",
    "#from qiskit_aer.library import save_statevector\n",
    "from qiskit.transpiler.preset_passmanagers import generate_preset_pass_manager\n",
    "import numpy as np\n",
    "from qiskit.quantum_info import Statevector"
   ]
  },
  {
   "cell_type": "code",
   "execution_count": 42,
   "id": "86de3b4a",
   "metadata": {},
   "outputs": [],
   "source": [
    "np.random.seed(42)"
   ]
  },
  {
   "cell_type": "markdown",
   "id": "501f4c19",
   "metadata": {},
   "source": [
    "# Defining relevant methods.\n",
    "Note that this implementation, does not use ancillary bits to detect which qubit is bit/phase flipped , i.e without stabiliser measurement(2 qubits per circuit saved), but rather just detects and correct the main qubit."
   ]
  },
  {
   "cell_type": "code",
   "execution_count": 43,
   "id": "326e8be1",
   "metadata": {},
   "outputs": [],
   "source": [
    "def bit_flip_encode(qc,qubits):\n",
    "    \"encodes the bit flip code, 2nd 3rd index of qubits are the added physical qubits\"\n",
    "    qc.cx(qubits[0], qubits[1])\n",
    "    qc.cx(qubits[0], qubits[2])\n",
    "def phase_flip_encode(qc,qubits):\n",
    "    \"encodes the phase flip code, 2nd 3rd index of qubits are the added physical qubits\"\n",
    "    bit_flip_encode(qc,qubits)\n",
    "    qc.h(qubits)\n",
    "def bit_flip_detect_correct(qc,qubits):\n",
    "    \"detects and corrects the bit flip on first qubit\"\n",
    "    qc.cx(qubits[0], qubits[1])\n",
    "    qc.cx(qubits[0], qubits[2])\n",
    "    qc.ccx(qubits[1], qubits[2], qubits[0])\n",
    "\n",
    "def phase_flip_detect_correct(qc,qubits):\n",
    "    \"detects and corrects the phase flip on first qubit\"\n",
    "    qc.h(qubits)\n",
    "    qc.cx(qubits[0], qubits[1])\n",
    "    qc.cx(qubits[0], qubits[2])\n",
    "    qc.ccx(qubits[1], qubits[2], qubits[0])"
   ]
  },
  {
   "cell_type": "markdown",
   "id": "7bdd9dc7",
   "metadata": {},
   "source": [
    "# Bit Flip detection and correction circuit"
   ]
  },
  {
   "cell_type": "code",
   "execution_count": null,
   "id": "3ef62fda",
   "metadata": {},
   "outputs": [
    {
     "data": {
      "text/html": [
       "<pre style=\"word-wrap: normal;white-space: pre;background: #fff0;line-height: 1.1;font-family: &quot;Courier New&quot;,Courier,monospace\">     ┌─────────┐┌─────────┐┌─────────┐ initial state            after encoding »\n",
       "q_0: ┤ Rx(π/4) ├┤ Ry(π/4) ├┤ Rz(π/9) ├───────░─────────■────■─────────░────────»\n",
       "     └─────────┘└─────────┘└─────────┘       ░       ┌─┴─┐  │         ░        »\n",
       "q_1: ────────────────────────────────────────░───────┤ X ├──┼─────────░────────»\n",
       "                                             ░       └───┘┌─┴─┐       ░        »\n",
       "q_2: ────────────────────────────────────────░────────────┤ X ├───────░────────»\n",
       "                                             ░            └───┘       ░        »\n",
       "c: 4/══════════════════════════════════════════════════════════════════════════»\n",
       "                                                                               »\n",
       "«     ┌───┐ after error           ┌───┐ after correction \n",
       "«q_0: ┤ X ├──────░────────■────■──┤ X ├────────░─────────\n",
       "«     └───┘      ░      ┌─┴─┐  │  └─┬─┘        ░         \n",
       "«q_1: ───────────░──────┤ X ├──┼────■──────────░─────────\n",
       "«                ░      └───┘┌─┴─┐  │          ░         \n",
       "«q_2: ───────────░───────────┤ X ├──■──────────░─────────\n",
       "«                ░           └───┘             ░         \n",
       "«c: 4/═══════════════════════════════════════════════════\n",
       "«                                                        </pre>"
      ],
      "text/plain": [
       "     ┌─────────┐┌─────────┐┌─────────┐ initial state            after encoding »\n",
       "q_0: ┤ Rx(π/4) ├┤ Ry(π/4) ├┤ Rz(π/9) ├───────░─────────■────■─────────░────────»\n",
       "     └─────────┘└─────────┘└─────────┘       ░       ┌─┴─┐  │         ░        »\n",
       "q_1: ────────────────────────────────────────░───────┤ X ├──┼─────────░────────»\n",
       "                                             ░       └───┘┌─┴─┐       ░        »\n",
       "q_2: ────────────────────────────────────────░────────────┤ X ├───────░────────»\n",
       "                                             ░            └───┘       ░        »\n",
       "c: 4/══════════════════════════════════════════════════════════════════════════»\n",
       "                                                                               »\n",
       "«     ┌───┐ after error           ┌───┐ after correction \n",
       "«q_0: ┤ X ├──────░────────■────■──┤ X ├────────░─────────\n",
       "«     └───┘      ░      ┌─┴─┐  │  └─┬─┘        ░         \n",
       "«q_1: ───────────░──────┤ X ├──┼────■──────────░─────────\n",
       "«                ░      └───┘┌─┴─┐  │          ░         \n",
       "«q_2: ───────────░───────────┤ X ├──■──────────░─────────\n",
       "«                ░           └───┘             ░         \n",
       "«c: 4/═══════════════════════════════════════════════════\n",
       "«                                                        "
      ]
     },
     "execution_count": 66,
     "metadata": {},
     "output_type": "execute_result"
    }
   ],
   "source": [
    "# Bit flip code\n",
    "qr1 = QuantumRegister(3, 'q')\n",
    "qc1 = QuantumCircuit(qr1)\n",
    "\n",
    "#preparing random qubit state\n",
    "qc1.rx(np.pi/np.random.randint(2,10),qr1[0])\n",
    "qc1.ry(np.pi/np.random.randint(2,10),qr1[0])\n",
    "qc1.rz(np.pi/np.random.randint(2,10),qr1[0])\n",
    "\n",
    "# encoding for bit flip detection and correction\n",
    "qc1.save_statevector(label=\"initial state\")\n",
    "bit_flip_encode(qc1,qr1)\n",
    "qc1.save_statevector(label=\"after encoding\")\n",
    "\n",
    "# introducing error on the anyone qubit\n",
    "qc1.x(qr1[np.random.randint(0,3)])\n",
    "qc1.save_statevector(label=\"after error\")\n",
    "\n",
    "# detection and correction\n",
    "bit_flip_detect_correct(qc1,qr1)\n",
    "qc1.save_statevector(label=\"after correction\")\n",
    "\n",
    "qc1.draw(\"text\")\n"
   ]
  },
  {
   "cell_type": "code",
   "execution_count": null,
   "id": "3350b43d",
   "metadata": {},
   "outputs": [],
   "source": [
    "sim = AerSimulator(method='statevector')\n",
    "pm = generate_preset_pass_manager(backend=sim)\n",
    "qc1 = pm.run(qc1)\n",
    "res1 = sim.run(qc1).result().data()"
   ]
  },
  {
   "cell_type": "code",
   "execution_count": null,
   "id": "48176752",
   "metadata": {},
   "outputs": [
    {
     "data": {
      "text/latex": [
       "$$(0.8660161835 - 0.0039962345 i) |000\\rangle+(0.4095760221 - 0.2867882182 i) |001\\rangle$$"
      ],
      "text/plain": [
       "<IPython.core.display.Latex object>"
      ]
     },
     "execution_count": 70,
     "metadata": {},
     "output_type": "execute_result"
    }
   ],
   "source": [
    "res1[\"initial state\"].draw(output=\"latex\")   # main qubit is rightmost"
   ]
  },
  {
   "cell_type": "code",
   "execution_count": null,
   "id": "f9667d9e",
   "metadata": {},
   "outputs": [
    {
     "data": {
      "text/latex": [
       "$$(0.8660161835 - 0.0039962345 i) |000\\rangle+(0.4095760221 - 0.2867882182 i) |111\\rangle$$"
      ],
      "text/plain": [
       "<IPython.core.display.Latex object>"
      ]
     },
     "execution_count": 71,
     "metadata": {},
     "output_type": "execute_result"
    }
   ],
   "source": [
    "res1[\"after encoding\"].draw(output=\"latex\")"
   ]
  },
  {
   "cell_type": "code",
   "execution_count": null,
   "id": "18de7952",
   "metadata": {},
   "outputs": [
    {
     "data": {
      "text/latex": [
       "$$(0.8660161835 - 0.0039962345 i) |001\\rangle+(0.4095760221 - 0.2867882182 i) |110\\rangle$$"
      ],
      "text/plain": [
       "<IPython.core.display.Latex object>"
      ]
     },
     "execution_count": 72,
     "metadata": {},
     "output_type": "execute_result"
    }
   ],
   "source": [
    "res1[\"after error\"].draw(output=\"latex\")"
   ]
  },
  {
   "cell_type": "code",
   "execution_count": null,
   "id": "b54a5543",
   "metadata": {},
   "outputs": [
    {
     "data": {
      "text/latex": [
       "$$(0.8660161835 - 0.0039962345 i) |110\\rangle+(0.4095760221 - 0.2867882182 i) |111\\rangle$$"
      ],
      "text/plain": [
       "<IPython.core.display.Latex object>"
      ]
     },
     "execution_count": 73,
     "metadata": {},
     "output_type": "execute_result"
    }
   ],
   "source": [
    "res1[\"after correction\"].draw(output=\"latex\")"
   ]
  },
  {
   "cell_type": "markdown",
   "id": "73ed0497",
   "metadata": {},
   "source": [
    "# Phase flip detection and correction"
   ]
  },
  {
   "cell_type": "code",
   "execution_count": 74,
   "id": "19aacb2b",
   "metadata": {},
   "outputs": [
    {
     "data": {
      "text/html": [
       "<pre style=\"word-wrap: normal;white-space: pre;background: #fff0;line-height: 1.1;font-family: &quot;Courier New&quot;,Courier,monospace\">     ┌─────────┐┌─────────┐┌─────────┐ initial state           ┌───┐»\n",
       "q_0: ┤ Rx(π/5) ├┤ Ry(π/9) ├┤ Rz(π/9) ├───────░─────────■────■──┤ H ├»\n",
       "     └─────────┘└─────────┘└─────────┘       ░       ┌─┴─┐  │  ├───┤»\n",
       "q_1: ────────────────────────────────────────░───────┤ X ├──┼──┤ H ├»\n",
       "                                             ░       └───┘┌─┴─┐├───┤»\n",
       "q_2: ────────────────────────────────────────░────────────┤ X ├┤ H ├»\n",
       "                                             ░            └───┘└───┘»\n",
       "«      after encoding       after error ┌───┐          ┌───┐ after correction \n",
       "«q_0: ───────░───────────────────░──────┤ H ├──■────■──┤ X ├────────░─────────\n",
       "«            ░                   ░      ├───┤┌─┴─┐  │  └─┬─┘        ░         \n",
       "«q_1: ───────░───────────────────░──────┤ H ├┤ X ├──┼────■──────────░─────────\n",
       "«            ░        ┌───┐      ░      ├───┤└───┘┌─┴─┐  │          ░         \n",
       "«q_2: ───────░────────┤ Z ├──────░──────┤ H ├─────┤ X ├──■──────────░─────────\n",
       "«            ░        └───┘      ░      └───┘     └───┘             ░         </pre>"
      ],
      "text/plain": [
       "     ┌─────────┐┌─────────┐┌─────────┐ initial state           ┌───┐»\n",
       "q_0: ┤ Rx(π/5) ├┤ Ry(π/9) ├┤ Rz(π/9) ├───────░─────────■────■──┤ H ├»\n",
       "     └─────────┘└─────────┘└─────────┘       ░       ┌─┴─┐  │  ├───┤»\n",
       "q_1: ────────────────────────────────────────░───────┤ X ├──┼──┤ H ├»\n",
       "                                             ░       └───┘┌─┴─┐├───┤»\n",
       "q_2: ────────────────────────────────────────░────────────┤ X ├┤ H ├»\n",
       "                                             ░            └───┘└───┘»\n",
       "«      after encoding       after error ┌───┐          ┌───┐ after correction \n",
       "«q_0: ───────░───────────────────░──────┤ H ├──■────■──┤ X ├────────░─────────\n",
       "«            ░                   ░      ├───┤┌─┴─┐  │  └─┬─┘        ░         \n",
       "«q_1: ───────░───────────────────░──────┤ H ├┤ X ├──┼────■──────────░─────────\n",
       "«            ░        ┌───┐      ░      ├───┤└───┘┌─┴─┐  │          ░         \n",
       "«q_2: ───────░────────┤ Z ├──────░──────┤ H ├─────┤ X ├──■──────────░─────────\n",
       "«            ░        └───┘      ░      └───┘     └───┘             ░         "
      ]
     },
     "execution_count": 74,
     "metadata": {},
     "output_type": "execute_result"
    }
   ],
   "source": [
    "# phase flip detection and correction\n",
    "qr2 = QuantumRegister(3, 'q')\n",
    "qc2 = QuantumCircuit(qr2)\n",
    "\n",
    "#preparing random qubit state\n",
    "qc2.rx(np.pi/np.random.randint(2,10),qr2[0])\n",
    "qc2.ry(np.pi/np.random.randint(2,10),qr2[0])\n",
    "qc2.rz(np.pi/np.random.randint(2,10),qr2[0])\n",
    "\n",
    "# encoding for phase flip detection and correction\n",
    "qc2.save_statevector(label=\"initial state\")\n",
    "phase_flip_encode(qc2,qr2)\n",
    "qc2.save_statevector(label=\"after encoding\")\n",
    "\n",
    "# introducing error on the anyone qubit\n",
    "qc2.z(qr2[np.random.randint(0,3)])\n",
    "qc2.save_statevector(label=\"after error\")\n",
    "\n",
    "# detection and correction\n",
    "phase_flip_detect_correct(qc2,qr2)\n",
    "qc2.save_statevector(label=\"after correction\")\n",
    "\n",
    "qc2.draw(\"text\")"
   ]
  },
  {
   "cell_type": "code",
   "execution_count": 76,
   "id": "cbaee7eb",
   "metadata": {},
   "outputs": [],
   "source": [
    "sim = AerSimulator(method='statevector')\n",
    "pm = generate_preset_pass_manager(backend=sim)\n",
    "qc2 = pm.run(qc2)\n",
    "res2 = sim.run(qc2).result().data()"
   ]
  },
  {
   "cell_type": "code",
   "execution_count": 78,
   "id": "e7d46564",
   "metadata": {},
   "outputs": [
    {
     "data": {
      "text/latex": [
       "$$(0.9316966558 - 0.1097952247 i) |000\\rangle+(0.2154852614 - 0.2710211289 i) |001\\rangle$$"
      ],
      "text/plain": [
       "<IPython.core.display.Latex object>"
      ]
     },
     "execution_count": 78,
     "metadata": {},
     "output_type": "execute_result"
    }
   ],
   "source": [
    "res2[\"initial state\"].draw(output=\"latex\")   # main qubit is rightmost"
   ]
  },
  {
   "cell_type": "code",
   "execution_count": 79,
   "id": "dfc3e073",
   "metadata": {},
   "outputs": [
    {
     "data": {
      "text/latex": [
       "$$(0.4055900565 - 0.134638913 i) |000\\rangle+(0.2532189669 + 0.0570019651 i) |001\\rangle+(0.2532189669 + 0.0570019651 i) |010\\rangle+(0.4055900565 - 0.134638913 i) |011\\rangle+(0.2532189669 + 0.0570019651 i) |100\\rangle+(0.4055900565 - 0.134638913 i) |101\\rangle+(0.4055900565 - 0.134638913 i) |110\\rangle+(0.2532189669 + 0.0570019651 i) |111\\rangle$$"
      ],
      "text/plain": [
       "<IPython.core.display.Latex object>"
      ]
     },
     "execution_count": 79,
     "metadata": {},
     "output_type": "execute_result"
    }
   ],
   "source": [
    "res2[\"after encoding\"].draw(output=\"latex\")"
   ]
  },
  {
   "cell_type": "code",
   "execution_count": 80,
   "id": "59905067",
   "metadata": {},
   "outputs": [
    {
     "data": {
      "text/latex": [
       "$$(0.4055900565 - 0.134638913 i) |000\\rangle+(0.2532189669 + 0.0570019651 i) |001\\rangle+(0.2532189669 + 0.0570019651 i) |010\\rangle+(0.4055900565 - 0.134638913 i) |011\\rangle+(-0.2532189669 - 0.0570019651 i) |100\\rangle+(-0.4055900565 + 0.134638913 i) |101\\rangle+(-0.4055900565 + 0.134638913 i) |110\\rangle+(-0.2532189669 - 0.0570019651 i) |111\\rangle$$"
      ],
      "text/plain": [
       "<IPython.core.display.Latex object>"
      ]
     },
     "execution_count": 80,
     "metadata": {},
     "output_type": "execute_result"
    }
   ],
   "source": [
    "res2[\"after error\"].draw(output=\"latex\")"
   ]
  },
  {
   "cell_type": "code",
   "execution_count": 81,
   "id": "46c92173",
   "metadata": {},
   "outputs": [
    {
     "data": {
      "text/latex": [
       "$$(0.9316966558 - 0.1097952247 i) |100\\rangle+(0.2154852614 - 0.2710211289 i) |101\\rangle$$"
      ],
      "text/plain": [
       "<IPython.core.display.Latex object>"
      ]
     },
     "execution_count": 81,
     "metadata": {},
     "output_type": "execute_result"
    }
   ],
   "source": [
    "res2[\"after correction\"].draw(output=\"latex\")"
   ]
  },
  {
   "cell_type": "markdown",
   "id": "11678c7e",
   "metadata": {},
   "source": [
    "# Answers to some theoretical questions\n",
    "## 1: Limitations of bit-flip code\n",
    "> - It can only correct a single type error (either bit or phase flip) at a time\n",
    "> - It can only correct single qubit bit/phase flip, as it's based on majority voting and can't be used if error probabilites are >high enough that chances of errors on more than one qubits is not small.\n",
    "> - To figure out the syndrome, ancilla qubits are required (although just correction can be done without it), which adds to >complexity and more point of failure.\n",
    "\n",
    "## 2: Can you interchange the bit and phase flip detection and correction modules in shor's code\n",
    "> - if the stabilizer measurements are being done, then stabilizer's must commute to get the same behaviour upon interchanging bit >and phase flip detection and correction modules.\n",
    "\n",
    "## 3: Why is fault tolerance is important?\n",
    "> - To prevent any error propagation, due to any faulty gate (coherent errors) and interaction with environment (incoherent errors).\n",
    "> - Essential for practical quantum computers where physical qubits are noisy, and error correction cycles are frequent.\n",
    "> - To ensure logical error rates scale favourably with code distance"
   ]
  }
 ],
 "metadata": {
  "kernelspec": {
   "display_name": ".venv",
   "language": "python",
   "name": "python3"
  },
  "language_info": {
   "codemirror_mode": {
    "name": "ipython",
    "version": 3
   },
   "file_extension": ".py",
   "mimetype": "text/x-python",
   "name": "python",
   "nbconvert_exporter": "python",
   "pygments_lexer": "ipython3",
   "version": "3.12.3"
  }
 },
 "nbformat": 4,
 "nbformat_minor": 5
}
