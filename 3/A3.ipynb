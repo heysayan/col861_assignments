{
  "nbformat": 4,
  "nbformat_minor": 0,
  "metadata": {
    "colab": {
      "provenance": []
    },
    "kernelspec": {
      "name": "python3",
      "display_name": "Python 3"
    },
    "language_info": {
      "name": "python"
    }
  },
  "cells": [
    {
      "cell_type": "code",
      "source": [
        "!pip install qiskit\n",
        "!pip install qiskit-aer\n",
        "!pip install matplotlib"
      ],
      "metadata": {
        "colab": {
          "base_uri": "https://localhost:8080/"
        },
        "collapsed": true,
        "id": "Lvhz1c41Oydy",
        "outputId": "31b2ee8e-bc99-44f8-b9b5-c16eca3939aa"
      },
      "execution_count": 138,
      "outputs": [
        {
          "output_type": "stream",
          "name": "stdout",
          "text": [
            "Requirement already satisfied: qiskit in /usr/local/lib/python3.11/dist-packages (1.3.2)\n",
            "Requirement already satisfied: rustworkx>=0.15.0 in /usr/local/lib/python3.11/dist-packages (from qiskit) (0.16.0)\n",
            "Requirement already satisfied: numpy<3,>=1.17 in /usr/local/lib/python3.11/dist-packages (from qiskit) (1.26.4)\n",
            "Requirement already satisfied: scipy>=1.5 in /usr/local/lib/python3.11/dist-packages (from qiskit) (1.13.1)\n",
            "Requirement already satisfied: sympy>=1.3 in /usr/local/lib/python3.11/dist-packages (from qiskit) (1.13.1)\n",
            "Requirement already satisfied: dill>=0.3 in /usr/local/lib/python3.11/dist-packages (from qiskit) (0.3.9)\n",
            "Requirement already satisfied: python-dateutil>=2.8.0 in /usr/local/lib/python3.11/dist-packages (from qiskit) (2.8.2)\n",
            "Requirement already satisfied: stevedore>=3.0.0 in /usr/local/lib/python3.11/dist-packages (from qiskit) (5.4.0)\n",
            "Requirement already satisfied: typing-extensions in /usr/local/lib/python3.11/dist-packages (from qiskit) (4.12.2)\n",
            "Requirement already satisfied: symengine<0.14,>=0.11 in /usr/local/lib/python3.11/dist-packages (from qiskit) (0.13.0)\n",
            "Requirement already satisfied: six>=1.5 in /usr/local/lib/python3.11/dist-packages (from python-dateutil>=2.8.0->qiskit) (1.17.0)\n",
            "Requirement already satisfied: pbr>=2.0.0 in /usr/local/lib/python3.11/dist-packages (from stevedore>=3.0.0->qiskit) (6.1.0)\n",
            "Requirement already satisfied: mpmath<1.4,>=1.1.0 in /usr/local/lib/python3.11/dist-packages (from sympy>=1.3->qiskit) (1.3.0)\n",
            "Requirement already satisfied: qiskit-aer in /usr/local/lib/python3.11/dist-packages (0.16.0)\n",
            "Requirement already satisfied: qiskit>=1.1.0 in /usr/local/lib/python3.11/dist-packages (from qiskit-aer) (1.3.2)\n",
            "Requirement already satisfied: numpy>=1.16.3 in /usr/local/lib/python3.11/dist-packages (from qiskit-aer) (1.26.4)\n",
            "Requirement already satisfied: scipy>=1.0 in /usr/local/lib/python3.11/dist-packages (from qiskit-aer) (1.13.1)\n",
            "Requirement already satisfied: psutil>=5 in /usr/local/lib/python3.11/dist-packages (from qiskit-aer) (5.9.5)\n",
            "Requirement already satisfied: rustworkx>=0.15.0 in /usr/local/lib/python3.11/dist-packages (from qiskit>=1.1.0->qiskit-aer) (0.16.0)\n",
            "Requirement already satisfied: sympy>=1.3 in /usr/local/lib/python3.11/dist-packages (from qiskit>=1.1.0->qiskit-aer) (1.13.1)\n",
            "Requirement already satisfied: dill>=0.3 in /usr/local/lib/python3.11/dist-packages (from qiskit>=1.1.0->qiskit-aer) (0.3.9)\n",
            "Requirement already satisfied: python-dateutil>=2.8.0 in /usr/local/lib/python3.11/dist-packages (from qiskit>=1.1.0->qiskit-aer) (2.8.2)\n",
            "Requirement already satisfied: stevedore>=3.0.0 in /usr/local/lib/python3.11/dist-packages (from qiskit>=1.1.0->qiskit-aer) (5.4.0)\n",
            "Requirement already satisfied: typing-extensions in /usr/local/lib/python3.11/dist-packages (from qiskit>=1.1.0->qiskit-aer) (4.12.2)\n",
            "Requirement already satisfied: symengine<0.14,>=0.11 in /usr/local/lib/python3.11/dist-packages (from qiskit>=1.1.0->qiskit-aer) (0.13.0)\n",
            "Requirement already satisfied: six>=1.5 in /usr/local/lib/python3.11/dist-packages (from python-dateutil>=2.8.0->qiskit>=1.1.0->qiskit-aer) (1.17.0)\n",
            "Requirement already satisfied: pbr>=2.0.0 in /usr/local/lib/python3.11/dist-packages (from stevedore>=3.0.0->qiskit>=1.1.0->qiskit-aer) (6.1.0)\n",
            "Requirement already satisfied: mpmath<1.4,>=1.1.0 in /usr/local/lib/python3.11/dist-packages (from sympy>=1.3->qiskit>=1.1.0->qiskit-aer) (1.3.0)\n",
            "Requirement already satisfied: matplotlib in /usr/local/lib/python3.11/dist-packages (3.10.0)\n",
            "Requirement already satisfied: contourpy>=1.0.1 in /usr/local/lib/python3.11/dist-packages (from matplotlib) (1.3.1)\n",
            "Requirement already satisfied: cycler>=0.10 in /usr/local/lib/python3.11/dist-packages (from matplotlib) (0.12.1)\n",
            "Requirement already satisfied: fonttools>=4.22.0 in /usr/local/lib/python3.11/dist-packages (from matplotlib) (4.55.7)\n",
            "Requirement already satisfied: kiwisolver>=1.3.1 in /usr/local/lib/python3.11/dist-packages (from matplotlib) (1.4.8)\n",
            "Requirement already satisfied: numpy>=1.23 in /usr/local/lib/python3.11/dist-packages (from matplotlib) (1.26.4)\n",
            "Requirement already satisfied: packaging>=20.0 in /usr/local/lib/python3.11/dist-packages (from matplotlib) (24.2)\n",
            "Requirement already satisfied: pillow>=8 in /usr/local/lib/python3.11/dist-packages (from matplotlib) (11.1.0)\n",
            "Requirement already satisfied: pyparsing>=2.3.1 in /usr/local/lib/python3.11/dist-packages (from matplotlib) (3.2.1)\n",
            "Requirement already satisfied: python-dateutil>=2.7 in /usr/local/lib/python3.11/dist-packages (from matplotlib) (2.8.2)\n",
            "Requirement already satisfied: six>=1.5 in /usr/local/lib/python3.11/dist-packages (from python-dateutil>=2.7->matplotlib) (1.17.0)\n",
            "Requirement already satisfied: pylatexenc in /usr/local/lib/python3.11/dist-packages (2.10)\n"
          ]
        }
      ]
    },
    {
      "cell_type": "code",
      "execution_count": 139,
      "metadata": {
        "id": "DPp3KmqfOpWM"
      },
      "outputs": [],
      "source": [
        "from qiskit import QuantumCircuit, transpile, QuantumRegister, ClassicalRegister\n",
        "from qiskit.visualization import plot_histogram, circuit_drawer\n",
        "import matplotlib.pyplot as plt\n",
        "from qiskit_aer import AerSimulator"
      ]
    },
    {
      "cell_type": "markdown",
      "source": [
        "# Reversible implementation of Classical gates"
      ],
      "metadata": {
        "id": "xysqH0jRO437"
      }
    },
    {
      "cell_type": "markdown",
      "source": [
        "## Implementing And gate using Toffoli gate (CCX)"
      ],
      "metadata": {
        "id": "7sbMApOwPBo0"
      }
    },
    {
      "cell_type": "code",
      "source": [
        "def AND_circuit(input_bits=(0,0)):\n",
        "    qc = QuantumCircuit(3, 1)\n",
        "    # preparing input qubits\n",
        "    if input_bits[0] == 1:\n",
        "        qc.x(0)\n",
        "    if input_bits[1] == 1:\n",
        "        qc.x(1)\n",
        "    # Use a Toffoli (CCX) gate on qubits 0,1 with qubit 2 as target. qubit 2 when measured gives 'and' of input bits\n",
        "    qc.ccx(0, 1, 2)\n",
        "    qc.barrier()\n",
        "    qc.measure(2, 0)\n",
        "    return qc"
      ],
      "metadata": {
        "id": "DC7XkuAEO4Kw"
      },
      "execution_count": 140,
      "outputs": []
    },
    {
      "cell_type": "markdown",
      "source": [
        "### building and running circuits and plotting results"
      ],
      "metadata": {
        "id": "mNrpdAB_Q89n"
      }
    },
    {
      "cell_type": "code",
      "source": [
        "circuits = []\n",
        "for input_bits in [(0,0), (0,1), (1,0), (1,1)]:\n",
        "    circuit = AND_circuit(input_bits=input_bits)\n",
        "    circuits.append(circuit)"
      ],
      "metadata": {
        "id": "-VhzAnMRe3Ct"
      },
      "execution_count": 141,
      "outputs": []
    },
    {
      "cell_type": "code",
      "source": [
        "print(\" And Circuit for inputs 0,0\")\n",
        "circuit_drawer(circuits[0], output='text')"
      ],
      "metadata": {
        "colab": {
          "base_uri": "https://localhost:8080/",
          "height": 174
        },
        "id": "cOQjbHjGQ651",
        "outputId": "5ac6c273-6554-4ec1-bf29-cb2116dad1f9"
      },
      "execution_count": 142,
      "outputs": [
        {
          "output_type": "stream",
          "name": "stdout",
          "text": [
            " And Circuit for inputs 0,0\n"
          ]
        },
        {
          "output_type": "execute_result",
          "data": {
            "text/plain": [
              "           ░    \n",
              "q_0: ──■───░────\n",
              "       │   ░    \n",
              "q_1: ──■───░────\n",
              "     ┌─┴─┐ ░ ┌─┐\n",
              "q_2: ┤ X ├─░─┤M├\n",
              "     └───┘ ░ └╥┘\n",
              "c: 1/═════════╩═\n",
              "              0 "
            ],
            "text/html": [
              "<pre style=\"word-wrap: normal;white-space: pre;background: #fff0;line-height: 1.1;font-family: &quot;Courier New&quot;,Courier,monospace\">           ░    \n",
              "q_0: ──■───░────\n",
              "       │   ░    \n",
              "q_1: ──■───░────\n",
              "     ┌─┴─┐ ░ ┌─┐\n",
              "q_2: ┤ X ├─░─┤M├\n",
              "     └───┘ ░ └╥┘\n",
              "c: 1/═════════╩═\n",
              "              0 </pre>"
            ]
          },
          "metadata": {},
          "execution_count": 142
        }
      ]
    },
    {
      "cell_type": "code",
      "source": [
        "print(\" And Circuit for inputs 0,1\")\n",
        "circuit_drawer(circuits[1], output='text')"
      ],
      "metadata": {
        "colab": {
          "base_uri": "https://localhost:8080/",
          "height": 174
        },
        "id": "zsidCju0fKwB",
        "outputId": "c377ec87-cabf-4d9b-a933-cb0ef9060234"
      },
      "execution_count": 143,
      "outputs": [
        {
          "output_type": "stream",
          "name": "stdout",
          "text": [
            " And Circuit for inputs 0,1\n"
          ]
        },
        {
          "output_type": "execute_result",
          "data": {
            "text/plain": [
              "                ░    \n",
              "q_0: ───────■───░────\n",
              "     ┌───┐  │   ░    \n",
              "q_1: ┤ X ├──■───░────\n",
              "     └───┘┌─┴─┐ ░ ┌─┐\n",
              "q_2: ─────┤ X ├─░─┤M├\n",
              "          └───┘ ░ └╥┘\n",
              "c: 1/══════════════╩═\n",
              "                   0 "
            ],
            "text/html": [
              "<pre style=\"word-wrap: normal;white-space: pre;background: #fff0;line-height: 1.1;font-family: &quot;Courier New&quot;,Courier,monospace\">                ░    \n",
              "q_0: ───────■───░────\n",
              "     ┌───┐  │   ░    \n",
              "q_1: ┤ X ├──■───░────\n",
              "     └───┘┌─┴─┐ ░ ┌─┐\n",
              "q_2: ─────┤ X ├─░─┤M├\n",
              "          └───┘ ░ └╥┘\n",
              "c: 1/══════════════╩═\n",
              "                   0 </pre>"
            ]
          },
          "metadata": {},
          "execution_count": 143
        }
      ]
    },
    {
      "cell_type": "code",
      "source": [
        "print(\" And Circuit for inputs 1,0\")\n",
        "circuit_drawer(circuits[2], output='text')"
      ],
      "metadata": {
        "colab": {
          "base_uri": "https://localhost:8080/",
          "height": 174
        },
        "id": "m_6XcWd8fNFY",
        "outputId": "560c09ed-de6e-4495-fab9-690c786f8405"
      },
      "execution_count": 144,
      "outputs": [
        {
          "output_type": "stream",
          "name": "stdout",
          "text": [
            " And Circuit for inputs 1,0\n"
          ]
        },
        {
          "output_type": "execute_result",
          "data": {
            "text/plain": [
              "     ┌───┐      ░    \n",
              "q_0: ┤ X ├──■───░────\n",
              "     └───┘  │   ░    \n",
              "q_1: ───────■───░────\n",
              "          ┌─┴─┐ ░ ┌─┐\n",
              "q_2: ─────┤ X ├─░─┤M├\n",
              "          └───┘ ░ └╥┘\n",
              "c: 1/══════════════╩═\n",
              "                   0 "
            ],
            "text/html": [
              "<pre style=\"word-wrap: normal;white-space: pre;background: #fff0;line-height: 1.1;font-family: &quot;Courier New&quot;,Courier,monospace\">     ┌───┐      ░    \n",
              "q_0: ┤ X ├──■───░────\n",
              "     └───┘  │   ░    \n",
              "q_1: ───────■───░────\n",
              "          ┌─┴─┐ ░ ┌─┐\n",
              "q_2: ─────┤ X ├─░─┤M├\n",
              "          └───┘ ░ └╥┘\n",
              "c: 1/══════════════╩═\n",
              "                   0 </pre>"
            ]
          },
          "metadata": {},
          "execution_count": 144
        }
      ]
    },
    {
      "cell_type": "code",
      "source": [
        "print(\" And Circuit for inputs 1,1\")\n",
        "circuit_drawer(circuits[3], output='text')"
      ],
      "metadata": {
        "colab": {
          "base_uri": "https://localhost:8080/",
          "height": 174
        },
        "id": "tTuw9tPdfONc",
        "outputId": "91372599-2b56-4ce0-9ba1-1d0a1b231520"
      },
      "execution_count": 145,
      "outputs": [
        {
          "output_type": "stream",
          "name": "stdout",
          "text": [
            " And Circuit for inputs 1,1\n"
          ]
        },
        {
          "output_type": "execute_result",
          "data": {
            "text/plain": [
              "     ┌───┐      ░    \n",
              "q_0: ┤ X ├──■───░────\n",
              "     ├───┤  │   ░    \n",
              "q_1: ┤ X ├──■───░────\n",
              "     └───┘┌─┴─┐ ░ ┌─┐\n",
              "q_2: ─────┤ X ├─░─┤M├\n",
              "          └───┘ ░ └╥┘\n",
              "c: 1/══════════════╩═\n",
              "                   0 "
            ],
            "text/html": [
              "<pre style=\"word-wrap: normal;white-space: pre;background: #fff0;line-height: 1.1;font-family: &quot;Courier New&quot;,Courier,monospace\">     ┌───┐      ░    \n",
              "q_0: ┤ X ├──■───░────\n",
              "     ├───┤  │   ░    \n",
              "q_1: ┤ X ├──■───░────\n",
              "     └───┘┌─┴─┐ ░ ┌─┐\n",
              "q_2: ─────┤ X ├─░─┤M├\n",
              "          └───┘ ░ └╥┘\n",
              "c: 1/══════════════╩═\n",
              "                   0 </pre>"
            ]
          },
          "metadata": {},
          "execution_count": 145
        }
      ]
    },
    {
      "cell_type": "code",
      "source": [
        "# Preparing plot area\n",
        "fig, axs = plt.subplots(2, 2, figsize=(12, 10))\n",
        "axs = axs.flatten()  # flatten the 2D array for easier iteration\n",
        "# giving titles to subplots\n",
        "for i,t in enumerate([\"AND circuit for (0,0)\",\"AND circuit for (0,1)\",\"AND circuit for (1,0)\",\"AND circuit for (1,1)\"]):\n",
        "  axs[i].set_title(t)\n",
        "# running each circuit on simulator and plotting\n",
        "for i in range(4):\n",
        "  # Transpile for simulator\n",
        "  simulator = AerSimulator()\n",
        "  circ = transpile(circuits[i], simulator)\n",
        "  # Run and get counts\n",
        "  result = simulator.run(circ,shots=1024).result()\n",
        "  counts = result.get_counts(circ)\n",
        "  plot_histogram(counts, ax=axs[i])"
      ],
      "metadata": {
        "colab": {
          "base_uri": "https://localhost:8080/",
          "height": 852
        },
        "id": "Fk1X8suFfPnj",
        "outputId": "5c596381-6ccc-4d45-bab8-f099eb58a51b"
      },
      "execution_count": 146,
      "outputs": [
        {
          "output_type": "display_data",
          "data": {
            "text/plain": [
              "<Figure size 1200x1000 with 4 Axes>"
            ],
            "image/png": "[encoded data removed]"
          },
          "metadata": {}
        }
      ]
    },
    {
      "cell_type": "markdown",
      "source": [
        "## Implementing Or gate using Toffoli gate (CCX)"
      ],
      "metadata": {
        "id": "wXb8mxN3hDb2"
      }
    },
    {
      "cell_type": "code",
      "source": [
        "def OR_circuit(input_bits=(0,0)):\n",
        "    qc = QuantumCircuit(3, 1)\n",
        "    # preparing input qubits\n",
        "    if input_bits[0] == 1:\n",
        "        qc.x(0)\n",
        "    if input_bits[1] == 1:\n",
        "        qc.x(1)\n",
        "    # inverting both inputs\n",
        "    qc.x(0)\n",
        "    qc.x(1)\n",
        "    # Use a Toffoli (CCX) gate on qubits 0,1 with qubit 2 as target. qubit 2 when measured gives 'Nor' of input bits\n",
        "    qc.ccx(0, 1, 2)\n",
        "    # inverting toffoli output for or\n",
        "    qc.x(2)\n",
        "    qc.barrier()\n",
        "    qc.measure(2, 0)\n",
        "    return qc"
      ],
      "metadata": {
        "id": "G19XBWTmhDb3"
      },
      "execution_count": 147,
      "outputs": []
    },
    {
      "cell_type": "markdown",
      "source": [
        "### building and running circuits and plotting results"
      ],
      "metadata": {
        "id": "rWZZJbFkhDb3"
      }
    },
    {
      "cell_type": "code",
      "source": [
        "circuits = []\n",
        "for input_bits in [(0,0), (0,1), (1,0), (1,1)]:\n",
        "    circuit = OR_circuit(input_bits=input_bits)\n",
        "    circuits.append(circuit)"
      ],
      "metadata": {
        "id": "uBwCaMVXhDb3"
      },
      "execution_count": 148,
      "outputs": []
    },
    {
      "cell_type": "code",
      "source": [
        "print(\" Or Circuit for inputs 0,0\")\n",
        "circuit_drawer(circuits[0], output='text')"
      ],
      "metadata": {
        "colab": {
          "base_uri": "https://localhost:8080/",
          "height": 174
        },
        "outputId": "32edb87d-8067-41ed-d789-84a4f60a9694",
        "id": "g-G1eVJrhDb4"
      },
      "execution_count": 149,
      "outputs": [
        {
          "output_type": "stream",
          "name": "stdout",
          "text": [
            " Or Circuit for inputs 0,0\n"
          ]
        },
        {
          "output_type": "execute_result",
          "data": {
            "text/plain": [
              "     ┌───┐           ░    \n",
              "q_0: ┤ X ├──■────────░────\n",
              "     ├───┤  │        ░    \n",
              "q_1: ┤ X ├──■────────░────\n",
              "     └───┘┌─┴─┐┌───┐ ░ ┌─┐\n",
              "q_2: ─────┤ X ├┤ X ├─░─┤M├\n",
              "          └───┘└───┘ ░ └╥┘\n",
              "c: 1/═══════════════════╩═\n",
              "                        0 "
            ],
            "text/html": [
              "<pre style=\"word-wrap: normal;white-space: pre;background: #fff0;line-height: 1.1;font-family: &quot;Courier New&quot;,Courier,monospace\">     ┌───┐           ░    \n",
              "q_0: ┤ X ├──■────────░────\n",
              "     ├───┤  │        ░    \n",
              "q_1: ┤ X ├──■────────░────\n",
              "     └───┘┌─┴─┐┌───┐ ░ ┌─┐\n",
              "q_2: ─────┤ X ├┤ X ├─░─┤M├\n",
              "          └───┘└───┘ ░ └╥┘\n",
              "c: 1/═══════════════════╩═\n",
              "                        0 </pre>"
            ]
          },
          "metadata": {},
          "execution_count": 149
        }
      ]
    },
    {
      "cell_type": "code",
      "source": [
        "print(\" Or Circuit for inputs 0,1\")\n",
        "circuit_drawer(circuits[1], output='text')"
      ],
      "metadata": {
        "colab": {
          "base_uri": "https://localhost:8080/",
          "height": 174
        },
        "outputId": "dc594500-5cca-4723-da43-e24e1dfd08dc",
        "id": "H_V2USZ_hDb4"
      },
      "execution_count": 150,
      "outputs": [
        {
          "output_type": "stream",
          "name": "stdout",
          "text": [
            " Or Circuit for inputs 0,1\n"
          ]
        },
        {
          "output_type": "execute_result",
          "data": {
            "text/plain": [
              "     ┌───┐                ░    \n",
              "q_0: ┤ X ├───────■────────░────\n",
              "     ├───┤┌───┐  │        ░    \n",
              "q_1: ┤ X ├┤ X ├──■────────░────\n",
              "     └───┘└───┘┌─┴─┐┌───┐ ░ ┌─┐\n",
              "q_2: ──────────┤ X ├┤ X ├─░─┤M├\n",
              "               └───┘└───┘ ░ └╥┘\n",
              "c: 1/════════════════════════╩═\n",
              "                             0 "
            ],
            "text/html": [
              "<pre style=\"word-wrap: normal;white-space: pre;background: #fff0;line-height: 1.1;font-family: &quot;Courier New&quot;,Courier,monospace\">     ┌───┐                ░    \n",
              "q_0: ┤ X ├───────■────────░────\n",
              "     ├───┤┌───┐  │        ░    \n",
              "q_1: ┤ X ├┤ X ├──■────────░────\n",
              "     └───┘└───┘┌─┴─┐┌───┐ ░ ┌─┐\n",
              "q_2: ──────────┤ X ├┤ X ├─░─┤M├\n",
              "               └───┘└───┘ ░ └╥┘\n",
              "c: 1/════════════════════════╩═\n",
              "                             0 </pre>"
            ]
          },
          "metadata": {},
          "execution_count": 150
        }
      ]
    },
    {
      "cell_type": "code",
      "source": [
        "print(\" Or Circuit for inputs 1,0\")\n",
        "circuit_drawer(circuits[2], output='text')"
      ],
      "metadata": {
        "colab": {
          "base_uri": "https://localhost:8080/",
          "height": 174
        },
        "outputId": "0097227e-a3fc-4d7e-895e-5c07b9d999b5",
        "id": "I7_zVBh9hDb4"
      },
      "execution_count": 151,
      "outputs": [
        {
          "output_type": "stream",
          "name": "stdout",
          "text": [
            " Or Circuit for inputs 1,0\n"
          ]
        },
        {
          "output_type": "execute_result",
          "data": {
            "text/plain": [
              "     ┌───┐┌───┐           ░    \n",
              "q_0: ┤ X ├┤ X ├──■────────░────\n",
              "     ├───┤└───┘  │        ░    \n",
              "q_1: ┤ X ├───────■────────░────\n",
              "     └───┘     ┌─┴─┐┌───┐ ░ ┌─┐\n",
              "q_2: ──────────┤ X ├┤ X ├─░─┤M├\n",
              "               └───┘└───┘ ░ └╥┘\n",
              "c: 1/════════════════════════╩═\n",
              "                             0 "
            ],
            "text/html": [
              "<pre style=\"word-wrap: normal;white-space: pre;background: #fff0;line-height: 1.1;font-family: &quot;Courier New&quot;,Courier,monospace\">     ┌───┐┌───┐           ░    \n",
              "q_0: ┤ X ├┤ X ├──■────────░────\n",
              "     ├───┤└───┘  │        ░    \n",
              "q_1: ┤ X ├───────■────────░────\n",
              "     └───┘     ┌─┴─┐┌───┐ ░ ┌─┐\n",
              "q_2: ──────────┤ X ├┤ X ├─░─┤M├\n",
              "               └───┘└───┘ ░ └╥┘\n",
              "c: 1/════════════════════════╩═\n",
              "                             0 </pre>"
            ]
          },
          "metadata": {},
          "execution_count": 151
        }
      ]
    },
    {
      "cell_type": "code",
      "source": [
        "print(\" Or Circuit for inputs 1,1\")\n",
        "circuit_drawer(circuits[3], output='text')"
      ],
      "metadata": {
        "colab": {
          "base_uri": "https://localhost:8080/",
          "height": 174
        },
        "outputId": "b477bb7e-9efe-40d6-d4e3-af3cfa575f13",
        "id": "5yrUcXDehDb5"
      },
      "execution_count": 152,
      "outputs": [
        {
          "output_type": "stream",
          "name": "stdout",
          "text": [
            " Or Circuit for inputs 1,1\n"
          ]
        },
        {
          "output_type": "execute_result",
          "data": {
            "text/plain": [
              "     ┌───┐┌───┐           ░    \n",
              "q_0: ┤ X ├┤ X ├──■────────░────\n",
              "     ├───┤├───┤  │        ░    \n",
              "q_1: ┤ X ├┤ X ├──■────────░────\n",
              "     └───┘└───┘┌─┴─┐┌───┐ ░ ┌─┐\n",
              "q_2: ──────────┤ X ├┤ X ├─░─┤M├\n",
              "               └───┘└───┘ ░ └╥┘\n",
              "c: 1/════════════════════════╩═\n",
              "                             0 "
            ],
            "text/html": [
              "<pre style=\"word-wrap: normal;white-space: pre;background: #fff0;line-height: 1.1;font-family: &quot;Courier New&quot;,Courier,monospace\">     ┌───┐┌───┐           ░    \n",
              "q_0: ┤ X ├┤ X ├──■────────░────\n",
              "     ├───┤├───┤  │        ░    \n",
              "q_1: ┤ X ├┤ X ├──■────────░────\n",
              "     └───┘└───┘┌─┴─┐┌───┐ ░ ┌─┐\n",
              "q_2: ──────────┤ X ├┤ X ├─░─┤M├\n",
              "               └───┘└───┘ ░ └╥┘\n",
              "c: 1/════════════════════════╩═\n",
              "                             0 </pre>"
            ]
          },
          "metadata": {},
          "execution_count": 152
        }
      ]
    },
    {
      "cell_type": "code",
      "source": [
        "# Preparing plot area\n",
        "fig, axs = plt.subplots(2, 2, figsize=(12, 10))\n",
        "axs = axs.flatten()  # flatten the 2D array for easier iteration\n",
        "# giving titles to subplots\n",
        "for i,t in enumerate([\"OR circuit for (0,0)\",\"OR circuit for (0,1)\",\"OR circuit for (1,0)\",\"OR circuit for (1,1)\"]):\n",
        "  axs[i].set_title(t)\n",
        "# running each circuit on simulator and plotting\n",
        "for i in range(4):\n",
        "  # Transpile for simulator\n",
        "  simulator = AerSimulator()\n",
        "  circ = transpile(circuits[i], simulator)\n",
        "  # Run and get counts\n",
        "  result = simulator.run(circ,shots=1024).result()\n",
        "  counts = result.get_counts(circ)\n",
        "  plot_histogram(counts, ax=axs[i])"
      ],
      "metadata": {
        "colab": {
          "base_uri": "https://localhost:8080/",
          "height": 852
        },
        "outputId": "4d5b1545-3a8f-4f1d-a319-0c04fa402e10",
        "id": "q2xnrlmqhDb7"
      },
      "execution_count": 153,
      "outputs": [
        {
          "output_type": "display_data",
          "data": {
            "text/plain": [
              "<Figure size 1200x1000 with 4 Axes>"
            ],
            "image/png": "[encoded data removed]"
          },
          "metadata": {}
        }
      ]
    },
    {
      "cell_type": "markdown",
      "source": [
        "## Implementing XOR gate using Controlled Not"
      ],
      "metadata": {
        "id": "ZvdKjjHCh8z3"
      }
    },
    {
      "cell_type": "code",
      "source": [
        "def XOR_circuit(input_bits=(0,0)):\n",
        "    qc = QuantumCircuit(3, 1)\n",
        "    # preparing input qubits\n",
        "    if input_bits[0] == 1:\n",
        "        qc.x(0)\n",
        "    if input_bits[1] == 1:\n",
        "        qc.x(1)\n",
        "    # Use a CX gate on qubits 0,1 with qubit 1 as target. qubit 1 when measured gives 'XOR' of input bits\n",
        "    qc.cx(0, 1)\n",
        "    qc.barrier()\n",
        "    qc.measure(1, 0)\n",
        "    return qc"
      ],
      "metadata": {
        "id": "IGM4nCYBh8z4"
      },
      "execution_count": 154,
      "outputs": []
    },
    {
      "cell_type": "markdown",
      "source": [
        "### building and running circuits and plotting results"
      ],
      "metadata": {
        "id": "NCbqSnmdh8z5"
      }
    },
    {
      "cell_type": "code",
      "source": [
        "circuits = []\n",
        "for input_bits in [(0,0), (0,1), (1,0), (1,1)]:\n",
        "    circuit = XOR_circuit(input_bits=input_bits)\n",
        "    circuits.append(circuit)"
      ],
      "metadata": {
        "id": "42LebVZZh8z5"
      },
      "execution_count": 155,
      "outputs": []
    },
    {
      "cell_type": "code",
      "source": [
        "print(\" XOR Circuit for inputs 0,0\")\n",
        "circuit_drawer(circuits[0], output='text')"
      ],
      "metadata": {
        "colab": {
          "base_uri": "https://localhost:8080/",
          "height": 174
        },
        "outputId": "abcd852d-f1fb-4fb7-d910-9e9d816de4c0",
        "id": "w_HNrQYqh8z5"
      },
      "execution_count": 156,
      "outputs": [
        {
          "output_type": "stream",
          "name": "stdout",
          "text": [
            " XOR Circuit for inputs 0,0\n"
          ]
        },
        {
          "output_type": "execute_result",
          "data": {
            "text/plain": [
              "           ░    \n",
              "q_0: ──■───░────\n",
              "     ┌─┴─┐ ░ ┌─┐\n",
              "q_1: ┤ X ├─░─┤M├\n",
              "     └───┘ ░ └╥┘\n",
              "q_2: ──────░──╫─\n",
              "           ░  ║ \n",
              "c: 1/═════════╩═\n",
              "              0 "
            ],
            "text/html": [
              "<pre style=\"word-wrap: normal;white-space: pre;background: #fff0;line-height: 1.1;font-family: &quot;Courier New&quot;,Courier,monospace\">           ░    \n",
              "q_0: ──■───░────\n",
              "     ┌─┴─┐ ░ ┌─┐\n",
              "q_1: ┤ X ├─░─┤M├\n",
              "     └───┘ ░ └╥┘\n",
              "q_2: ──────░──╫─\n",
              "           ░  ║ \n",
              "c: 1/═════════╩═\n",
              "              0 </pre>"
            ]
          },
          "metadata": {},
          "execution_count": 156
        }
      ]
    },
    {
      "cell_type": "code",
      "source": [
        "print(\" XOR Circuit for inputs 0,1\")\n",
        "circuit_drawer(circuits[1], output='text')"
      ],
      "metadata": {
        "colab": {
          "base_uri": "https://localhost:8080/",
          "height": 174
        },
        "outputId": "3e5b054f-d8e5-4bdf-f7ca-029b42a8bf1c",
        "id": "CnOdNekWh8z6"
      },
      "execution_count": 157,
      "outputs": [
        {
          "output_type": "stream",
          "name": "stdout",
          "text": [
            " XOR Circuit for inputs 0,1\n"
          ]
        },
        {
          "output_type": "execute_result",
          "data": {
            "text/plain": [
              "                ░    \n",
              "q_0: ───────■───░────\n",
              "     ┌───┐┌─┴─┐ ░ ┌─┐\n",
              "q_1: ┤ X ├┤ X ├─░─┤M├\n",
              "     └───┘└───┘ ░ └╥┘\n",
              "q_2: ───────────░──╫─\n",
              "                ░  ║ \n",
              "c: 1/══════════════╩═\n",
              "                   0 "
            ],
            "text/html": [
              "<pre style=\"word-wrap: normal;white-space: pre;background: #fff0;line-height: 1.1;font-family: &quot;Courier New&quot;,Courier,monospace\">                ░    \n",
              "q_0: ───────■───░────\n",
              "     ┌───┐┌─┴─┐ ░ ┌─┐\n",
              "q_1: ┤ X ├┤ X ├─░─┤M├\n",
              "     └───┘└───┘ ░ └╥┘\n",
              "q_2: ───────────░──╫─\n",
              "                ░  ║ \n",
              "c: 1/══════════════╩═\n",
              "                   0 </pre>"
            ]
          },
          "metadata": {},
          "execution_count": 157
        }
      ]
    },
    {
      "cell_type": "code",
      "source": [
        "print(\" XOR Circuit for inputs 1,0\")\n",
        "circuit_drawer(circuits[2], output='text')"
      ],
      "metadata": {
        "colab": {
          "base_uri": "https://localhost:8080/",
          "height": 174
        },
        "outputId": "7f771351-f72c-47f8-a9f8-693e32176f48",
        "id": "R2TndUX3h8z6"
      },
      "execution_count": 158,
      "outputs": [
        {
          "output_type": "stream",
          "name": "stdout",
          "text": [
            " XOR Circuit for inputs 1,0\n"
          ]
        },
        {
          "output_type": "execute_result",
          "data": {
            "text/plain": [
              "     ┌───┐      ░    \n",
              "q_0: ┤ X ├──■───░────\n",
              "     └───┘┌─┴─┐ ░ ┌─┐\n",
              "q_1: ─────┤ X ├─░─┤M├\n",
              "          └───┘ ░ └╥┘\n",
              "q_2: ───────────░──╫─\n",
              "                ░  ║ \n",
              "c: 1/══════════════╩═\n",
              "                   0 "
            ],
            "text/html": [
              "<pre style=\"word-wrap: normal;white-space: pre;background: #fff0;line-height: 1.1;font-family: &quot;Courier New&quot;,Courier,monospace\">     ┌───┐      ░    \n",
              "q_0: ┤ X ├──■───░────\n",
              "     └───┘┌─┴─┐ ░ ┌─┐\n",
              "q_1: ─────┤ X ├─░─┤M├\n",
              "          └───┘ ░ └╥┘\n",
              "q_2: ───────────░──╫─\n",
              "                ░  ║ \n",
              "c: 1/══════════════╩═\n",
              "                   0 </pre>"
            ]
          },
          "metadata": {},
          "execution_count": 158
        }
      ]
    },
    {
      "cell_type": "code",
      "source": [
        "print(\" XOR Circuit for inputs 1,1\")\n",
        "circuit_drawer(circuits[3], output='text')"
      ],
      "metadata": {
        "colab": {
          "base_uri": "https://localhost:8080/",
          "height": 174
        },
        "outputId": "53db2cc2-98d6-4670-bd4d-a8dadba0460f",
        "id": "jXBFwv67h8z6"
      },
      "execution_count": 159,
      "outputs": [
        {
          "output_type": "stream",
          "name": "stdout",
          "text": [
            " XOR Circuit for inputs 1,1\n"
          ]
        },
        {
          "output_type": "execute_result",
          "data": {
            "text/plain": [
              "     ┌───┐      ░    \n",
              "q_0: ┤ X ├──■───░────\n",
              "     ├───┤┌─┴─┐ ░ ┌─┐\n",
              "q_1: ┤ X ├┤ X ├─░─┤M├\n",
              "     └───┘└───┘ ░ └╥┘\n",
              "q_2: ───────────░──╫─\n",
              "                ░  ║ \n",
              "c: 1/══════════════╩═\n",
              "                   0 "
            ],
            "text/html": [
              "<pre style=\"word-wrap: normal;white-space: pre;background: #fff0;line-height: 1.1;font-family: &quot;Courier New&quot;,Courier,monospace\">     ┌───┐      ░    \n",
              "q_0: ┤ X ├──■───░────\n",
              "     ├───┤┌─┴─┐ ░ ┌─┐\n",
              "q_1: ┤ X ├┤ X ├─░─┤M├\n",
              "     └───┘└───┘ ░ └╥┘\n",
              "q_2: ───────────░──╫─\n",
              "                ░  ║ \n",
              "c: 1/══════════════╩═\n",
              "                   0 </pre>"
            ]
          },
          "metadata": {},
          "execution_count": 159
        }
      ]
    },
    {
      "cell_type": "code",
      "source": [
        "# Preparing plot area\n",
        "fig, axs = plt.subplots(2, 2, figsize=(12, 10))\n",
        "axs = axs.flatten()  # flatten the 2D array for easier iteration\n",
        "# giving titles to subplots\n",
        "for i,t in enumerate([\"XOR circuit for (0,0)\",\"XOR circuit for (0,1)\",\"XOR circuit for (1,0)\",\"XOR circuit for (1,1)\"]):\n",
        "  axs[i].set_title(t)\n",
        "# running each circuit on simulator and plotting\n",
        "for i in range(4):\n",
        "  # Transpile for simulator\n",
        "  simulator = AerSimulator()\n",
        "  circ = transpile(circuits[i], simulator)\n",
        "  # Run and get counts\n",
        "  result = simulator.run(circ,shots=1024).result()\n",
        "  counts = result.get_counts(circ)\n",
        "  plot_histogram(counts, ax=axs[i])"
      ],
      "metadata": {
        "colab": {
          "base_uri": "https://localhost:8080/",
          "height": 852
        },
        "outputId": "732b2272-daff-4a70-b433-2ec68336d684",
        "id": "Xx4jP4vIh8z7"
      },
      "execution_count": 160,
      "outputs": [
        {
          "output_type": "display_data",
          "data": {
            "text/plain": [
              "<Figure size 1200x1000 with 4 Axes>"
            ],
            "image/png": "[encoded data removed]"
          },
          "metadata": {}
        }
      ]
    },
    {
      "cell_type": "markdown",
      "source": [
        "# NAND, NOR, XNOR"
      ],
      "metadata": {
        "id": "QNmmeJnNiUOy"
      }
    },
    {
      "cell_type": "markdown",
      "source": [
        "They all can be implemented by putting 'X' gate to the output qubit, of the implementation of their positive counterparts."
      ],
      "metadata": {
        "id": "Bmxhz8raiaGM"
      }
    },
    {
      "cell_type": "markdown",
      "source": [
        "# Implementing Quantum Teleportation"
      ],
      "metadata": {
        "id": "fGYg9IzjjAfa"
      }
    },
    {
      "cell_type": "markdown",
      "source": [
        "We would try to teleport qubit :  0.866|0>+0.5|1>"
      ],
      "metadata": {
        "id": "MdyUYU8lpW7a"
      }
    },
    {
      "cell_type": "code",
      "source": [
        "qreg_q = QuantumRegister(3, 'q')\n",
        "creg_c = ClassicalRegister(3, 'c')\n",
        "circuit = QuantumCircuit(qreg_q, creg_c)\n",
        "\n",
        "# preparing the qubit to be teleport\n",
        "circuit.u(3.14 / 3, 0, 0, qreg_q[0])\n",
        "circuit.barrier(qreg_q[0], qreg_q[1], qreg_q[2])\n",
        "\n",
        "# creating Alice and Bob entangled pair\n",
        "circuit.h(qreg_q[1])\n",
        "circuit.cx(qreg_q[1], qreg_q[2])\n",
        "circuit.barrier(qreg_q[0], qreg_q[1], qreg_q[2])\n",
        "\n",
        "# entangling both Alice's qubits (q0,q1)\n",
        "circuit.cx(qreg_q[0], qreg_q[1])\n",
        "circuit.h(qreg_q[0])\n",
        "circuit.barrier(qreg_q[0], qreg_q[1], qreg_q[2])\n",
        "\n",
        "# measuring both Alice's qubits\n",
        "circuit.measure(qreg_q[0], creg_c[0])\n",
        "circuit.measure(qreg_q[1], creg_c[1])\n",
        "\n",
        "# Bob applying X and Z based on values of classical bits\n",
        "circuit.cx(qreg_q[1], qreg_q[2])\n",
        "circuit.cz(qreg_q[0], qreg_q[2])\n",
        "\n",
        "# measuring Bob qubit\n",
        "circuit.measure(qreg_q[2], creg_c[2])"
      ],
      "metadata": {
        "colab": {
          "base_uri": "https://localhost:8080/"
        },
        "id": "jkf5IfnwzUXD",
        "outputId": "db5d510e-f981-417b-e398-dbd06c6d5da7"
      },
      "execution_count": 161,
      "outputs": [
        {
          "output_type": "execute_result",
          "data": {
            "text/plain": [
              "<qiskit.circuit.instructionset.InstructionSet at 0x7c799d0037c0>"
            ]
          },
          "metadata": {},
          "execution_count": 161
        }
      ]
    },
    {
      "cell_type": "code",
      "source": [
        "circuit_drawer(circuit, output='text')"
      ],
      "metadata": {
        "colab": {
          "base_uri": "https://localhost:8080/",
          "height": 156
        },
        "id": "UmyEirgouQjC",
        "outputId": "b3dcc47b-5e43-4482-eb56-e02795843cfb"
      },
      "execution_count": 162,
      "outputs": [
        {
          "output_type": "execute_result",
          "data": {
            "text/plain": [
              "     ┌───────────────┐ ░            ░      ┌───┐ ░ ┌─┐              \n",
              "q_0: ┤ U(1.0467,0,0) ├─░────────────░───■──┤ H ├─░─┤M├─────────■────\n",
              "     └───────────────┘ ░ ┌───┐      ░ ┌─┴─┐└───┘ ░ └╥┘┌─┐      │    \n",
              "q_1: ──────────────────░─┤ H ├──■───░─┤ X ├──────░──╫─┤M├──■───┼────\n",
              "                       ░ └───┘┌─┴─┐ ░ └───┘      ░  ║ └╥┘┌─┴─┐ │ ┌─┐\n",
              "q_2: ──────────────────░──────┤ X ├─░────────────░──╫──╫─┤ X ├─■─┤M├\n",
              "                       ░      └───┘ ░            ░  ║  ║ └───┘   └╥┘\n",
              "c: 3/═══════════════════════════════════════════════╩══╩══════════╩═\n",
              "                                                    0  1          2 "
            ],
            "text/html": [
              "<pre style=\"word-wrap: normal;white-space: pre;background: #fff0;line-height: 1.1;font-family: &quot;Courier New&quot;,Courier,monospace\">     ┌───────────────┐ ░            ░      ┌───┐ ░ ┌─┐              \n",
              "q_0: ┤ U(1.0467,0,0) ├─░────────────░───■──┤ H ├─░─┤M├─────────■────\n",
              "     └───────────────┘ ░ ┌───┐      ░ ┌─┴─┐└───┘ ░ └╥┘┌─┐      │    \n",
              "q_1: ──────────────────░─┤ H ├──■───░─┤ X ├──────░──╫─┤M├──■───┼────\n",
              "                       ░ └───┘┌─┴─┐ ░ └───┘      ░  ║ └╥┘┌─┴─┐ │ ┌─┐\n",
              "q_2: ──────────────────░──────┤ X ├─░────────────░──╫──╫─┤ X ├─■─┤M├\n",
              "                       ░      └───┘ ░            ░  ║  ║ └───┘   └╥┘\n",
              "c: 3/═══════════════════════════════════════════════╩══╩══════════╩═\n",
              "                                                    0  1          2 </pre>"
            ]
          },
          "metadata": {},
          "execution_count": 162
        }
      ]
    },
    {
      "cell_type": "code",
      "source": [
        "# Transpile for simulator\n",
        "simulator = AerSimulator()\n",
        "circ = transpile(circuit, simulator)\n",
        "# Run and get counts\n",
        "result = simulator.run(circ,shots=1024).result()\n",
        "counts = result.get_counts(circ)\n",
        "plot_histogram(counts)"
      ],
      "metadata": {
        "colab": {
          "base_uri": "https://localhost:8080/",
          "height": 446
        },
        "id": "SRNOLY7Vuzyz",
        "outputId": "3a20c0eb-fbda-4078-8074-2c273afbf538"
      },
      "execution_count": 163,
      "outputs": [
        {
          "output_type": "execute_result",
          "data": {
            "text/plain": [
              "<Figure size 640x480 with 1 Axes>"
            ],
            "image/png": "[encoded data removed]"
          },
          "metadata": {},
          "execution_count": 163
        }
      ]
    },
    {
      "cell_type": "markdown",
      "source": [
        "Plotting the probability dist of Bob's qubit which resembles the dist. of qubit to be teleported"
      ],
      "metadata": {
        "id": "83Jkivu88R2E"
      }
    },
    {
      "cell_type": "code",
      "source": [
        "\n",
        "bit_index = 2  # 0 means the right-most bit in the string\n",
        "\n",
        "# Initialize a dictionary to hold counts for that single bit.\n",
        "single_bit_counts = {}\n",
        "\n",
        "# Iterate over the full counts dictionary.\n",
        "for bit_string, count in counts.items():\n",
        "    # Extract the bit of interest.\n",
        "    # Since Qiskit returns the bits with the rightmost bit corresponding to classical register 0,\n",
        "    # we take the (-bit_index-1)-th character.\n",
        "    bit_value = bit_string[-(bit_index + 1)]\n",
        "    single_bit_counts[bit_value] = single_bit_counts.get(bit_value, 0) + count\n",
        "\n",
        "print(\"Counts for classical bit\", bit_index, \":\", single_bit_counts)\n",
        "\n",
        "# Plot the histogram for just that bit.\n",
        "plot_histogram(single_bit_counts, title=f\"Histogram for Classical Bit {bit_index}\")\n"
      ],
      "metadata": {
        "colab": {
          "base_uri": "https://localhost:8080/",
          "height": 469
        },
        "id": "cRqHin_1v6Kq",
        "outputId": "532bcc98-563f-4f88-d753-9cd9b1572ef9"
      },
      "execution_count": 164,
      "outputs": [
        {
          "output_type": "stream",
          "name": "stdout",
          "text": [
            "Counts for classical bit 2 : {'1': 254, '0': 770}\n"
          ]
        },
        {
          "output_type": "execute_result",
          "data": {
            "text/plain": [
              "<Figure size 640x480 with 1 Axes>"
            ],
            "image/png": "[encoded data removed]"
          },
          "metadata": {},
          "execution_count": 164
        }
      ]
    },
    {
      "cell_type": "markdown",
      "source": [
        "## Conclusion\n",
        "The Teleportation program is also run with the same qubits on ibm kyiv using the ibm composer interface. the link for the same is : quantum.ibm.com/composer/files/new?initial=N4IgdghgtgpiBcIAqMA2MAOB7ATgFwjwEsswQAaEAExgGcBjHIjY0hECkARwlqnYDyABQCiAOQCKAQQDKAWQAEAJgB0ABgDcAHTBEw9VAFcaCrdzREARgEYVe%2Bme1gdXHDADmCrgG0AzAF0nRg8Fej9AnUMACgwiAHpfcgU1JLUASi9vNQiwSwgcJhgcTOykn2t-Mu8lHIALTIqggA8GysyapzyCoiKStvL%2B6pz6Fp9S1qd6sZyuwuLpqoqqjp1YXkM3PoUAWgA%2BUKyctdoNmFad-bDGnRHW5eGALz77p2PT9v8Lg5WyAF8gA\n",
        "\n",
        "Job id: cyh0jwbrta1g008v8140"
      ],
      "metadata": {
        "id": "tYHNq203K3UA"
      }
    },
    {
      "cell_type": "markdown",
      "source": [
        "# Desnse Coding"
      ],
      "metadata": {
        "id": "n5dTR6tG8jDY"
      }
    },
    {
      "cell_type": "code",
      "source": [
        "circuits = []"
      ],
      "metadata": {
        "id": "nFbarFKYBbqX"
      },
      "execution_count": 165,
      "outputs": []
    },
    {
      "cell_type": "markdown",
      "source": [
        "## For sending bits 0,0"
      ],
      "metadata": {
        "id": "N4Ilxv1IBemR"
      }
    },
    {
      "cell_type": "code",
      "source": [
        "qreg_q = QuantumRegister(2, 'q')\n",
        "creg_c0 = ClassicalRegister(2, 'c0')\n",
        "circuit = QuantumCircuit(qreg_q, creg_c0)\n",
        "\n",
        "circuit.h(qreg_q[0])\n",
        "circuit.cx(qreg_q[0], qreg_q[1])\n",
        "circuit.barrier(qreg_q[0], qreg_q[1])\n",
        "circuit.id(qreg_q[0])\n",
        "circuit.barrier(qreg_q[0], qreg_q[1])\n",
        "circuit.cx(qreg_q[0], qreg_q[1])\n",
        "circuit.h(qreg_q[0])\n",
        "circuit.barrier(qreg_q[0], qreg_q[1])\n",
        "circuit.measure(qreg_q[0], creg_c0[0])\n",
        "circuit.measure(qreg_q[1], creg_c0[1])\n",
        "circuits.append(circuit)\n",
        "circuit_drawer(circuit, output='text')"
      ],
      "metadata": {
        "colab": {
          "base_uri": "https://localhost:8080/",
          "height": 125
        },
        "id": "RTD2471FBdeA",
        "outputId": "1cdb8e81-6c05-408f-d7b6-2c5fd0d730d1"
      },
      "execution_count": 166,
      "outputs": [
        {
          "output_type": "execute_result",
          "data": {
            "text/plain": [
              "      ┌───┐      ░ ┌───┐ ░      ┌───┐ ░ ┌─┐   \n",
              " q_0: ┤ H ├──■───░─┤ I ├─░───■──┤ H ├─░─┤M├───\n",
              "      └───┘┌─┴─┐ ░ └───┘ ░ ┌─┴─┐└───┘ ░ └╥┘┌─┐\n",
              " q_1: ─────┤ X ├─░───────░─┤ X ├──────░──╫─┤M├\n",
              "           └───┘ ░       ░ └───┘      ░  ║ └╥┘\n",
              "c0: 2/═══════════════════════════════════╩══╩═\n",
              "                                         0  1 "
            ],
            "text/html": [
              "<pre style=\"word-wrap: normal;white-space: pre;background: #fff0;line-height: 1.1;font-family: &quot;Courier New&quot;,Courier,monospace\">      ┌───┐      ░ ┌───┐ ░      ┌───┐ ░ ┌─┐   \n",
              " q_0: ┤ H ├──■───░─┤ I ├─░───■──┤ H ├─░─┤M├───\n",
              "      └───┘┌─┴─┐ ░ └───┘ ░ ┌─┴─┐└───┘ ░ └╥┘┌─┐\n",
              " q_1: ─────┤ X ├─░───────░─┤ X ├──────░──╫─┤M├\n",
              "           └───┘ ░       ░ └───┘      ░  ║ └╥┘\n",
              "c0: 2/═══════════════════════════════════╩══╩═\n",
              "                                         0  1 </pre>"
            ]
          },
          "metadata": {},
          "execution_count": 166
        }
      ]
    },
    {
      "cell_type": "markdown",
      "source": [
        "## For sending bits 0,1"
      ],
      "metadata": {
        "id": "EW37mhgGCR0X"
      }
    },
    {
      "cell_type": "code",
      "source": [
        "qreg_q = QuantumRegister(2, 'q')\n",
        "creg_c0 = ClassicalRegister(2, 'c0')\n",
        "circuit = QuantumCircuit(qreg_q, creg_c0)\n",
        "\n",
        "circuit.h(qreg_q[0])\n",
        "circuit.cx(qreg_q[0], qreg_q[1])\n",
        "circuit.barrier(qreg_q[0], qreg_q[1])\n",
        "circuit.z(qreg_q[0])\n",
        "circuit.barrier(qreg_q[0], qreg_q[1])\n",
        "circuit.cx(qreg_q[0], qreg_q[1])\n",
        "circuit.h(qreg_q[0])\n",
        "circuit.barrier(qreg_q[0], qreg_q[1])\n",
        "circuit.measure(qreg_q[0], creg_c0[0])\n",
        "circuit.measure(qreg_q[1], creg_c0[1])\n",
        "circuits.append(circuit)\n",
        "circuit_drawer(circuit, output='text')"
      ],
      "metadata": {
        "colab": {
          "base_uri": "https://localhost:8080/",
          "height": 125
        },
        "id": "GqmBTTZ7BqaA",
        "outputId": "4309adbf-2708-46c0-fd8b-b3e7ddad6df0"
      },
      "execution_count": 167,
      "outputs": [
        {
          "output_type": "execute_result",
          "data": {
            "text/plain": [
              "      ┌───┐      ░ ┌───┐ ░      ┌───┐ ░ ┌─┐   \n",
              " q_0: ┤ H ├──■───░─┤ Z ├─░───■──┤ H ├─░─┤M├───\n",
              "      └───┘┌─┴─┐ ░ └───┘ ░ ┌─┴─┐└───┘ ░ └╥┘┌─┐\n",
              " q_1: ─────┤ X ├─░───────░─┤ X ├──────░──╫─┤M├\n",
              "           └───┘ ░       ░ └───┘      ░  ║ └╥┘\n",
              "c0: 2/═══════════════════════════════════╩══╩═\n",
              "                                         0  1 "
            ],
            "text/html": [
              "<pre style=\"word-wrap: normal;white-space: pre;background: #fff0;line-height: 1.1;font-family: &quot;Courier New&quot;,Courier,monospace\">      ┌───┐      ░ ┌───┐ ░      ┌───┐ ░ ┌─┐   \n",
              " q_0: ┤ H ├──■───░─┤ Z ├─░───■──┤ H ├─░─┤M├───\n",
              "      └───┘┌─┴─┐ ░ └───┘ ░ ┌─┴─┐└───┘ ░ └╥┘┌─┐\n",
              " q_1: ─────┤ X ├─░───────░─┤ X ├──────░──╫─┤M├\n",
              "           └───┘ ░       ░ └───┘      ░  ║ └╥┘\n",
              "c0: 2/═══════════════════════════════════╩══╩═\n",
              "                                         0  1 </pre>"
            ]
          },
          "metadata": {},
          "execution_count": 167
        }
      ]
    },
    {
      "cell_type": "markdown",
      "source": [
        "## For sending bits 1,0"
      ],
      "metadata": {
        "id": "ya-CmlNrCVbg"
      }
    },
    {
      "cell_type": "code",
      "source": [
        "qreg_q = QuantumRegister(2, 'q')\n",
        "creg_c0 = ClassicalRegister(2, 'c0')\n",
        "circuit = QuantumCircuit(qreg_q, creg_c0)\n",
        "\n",
        "circuit.h(qreg_q[0])\n",
        "circuit.cx(qreg_q[0], qreg_q[1])\n",
        "circuit.barrier(qreg_q[0], qreg_q[1])\n",
        "circuit.x(qreg_q[0])\n",
        "circuit.barrier(qreg_q[0], qreg_q[1])\n",
        "circuit.cx(qreg_q[0], qreg_q[1])\n",
        "circuit.h(qreg_q[0])\n",
        "circuit.barrier(qreg_q[0], qreg_q[1])\n",
        "circuit.measure(qreg_q[0], creg_c0[0])\n",
        "circuit.measure(qreg_q[1], creg_c0[1])\n",
        "circuits.append(circuit)\n",
        "circuit_drawer(circuit, output='text')"
      ],
      "metadata": {
        "colab": {
          "base_uri": "https://localhost:8080/",
          "height": 125
        },
        "id": "Cs5MN8TSCD-5",
        "outputId": "171adc24-941d-4dcc-d708-7f58cc38c662"
      },
      "execution_count": 168,
      "outputs": [
        {
          "output_type": "execute_result",
          "data": {
            "text/plain": [
              "      ┌───┐      ░ ┌───┐ ░      ┌───┐ ░ ┌─┐   \n",
              " q_0: ┤ H ├──■───░─┤ X ├─░───■──┤ H ├─░─┤M├───\n",
              "      └───┘┌─┴─┐ ░ └───┘ ░ ┌─┴─┐└───┘ ░ └╥┘┌─┐\n",
              " q_1: ─────┤ X ├─░───────░─┤ X ├──────░──╫─┤M├\n",
              "           └───┘ ░       ░ └───┘      ░  ║ └╥┘\n",
              "c0: 2/═══════════════════════════════════╩══╩═\n",
              "                                         0  1 "
            ],
            "text/html": [
              "<pre style=\"word-wrap: normal;white-space: pre;background: #fff0;line-height: 1.1;font-family: &quot;Courier New&quot;,Courier,monospace\">      ┌───┐      ░ ┌───┐ ░      ┌───┐ ░ ┌─┐   \n",
              " q_0: ┤ H ├──■───░─┤ X ├─░───■──┤ H ├─░─┤M├───\n",
              "      └───┘┌─┴─┐ ░ └───┘ ░ ┌─┴─┐└───┘ ░ └╥┘┌─┐\n",
              " q_1: ─────┤ X ├─░───────░─┤ X ├──────░──╫─┤M├\n",
              "           └───┘ ░       ░ └───┘      ░  ║ └╥┘\n",
              "c0: 2/═══════════════════════════════════╩══╩═\n",
              "                                         0  1 </pre>"
            ]
          },
          "metadata": {},
          "execution_count": 168
        }
      ]
    },
    {
      "cell_type": "markdown",
      "source": [
        "## For sending bits 1,1"
      ],
      "metadata": {
        "id": "I_z5_akiCXmF"
      }
    },
    {
      "cell_type": "code",
      "source": [
        "qreg_q = QuantumRegister(2, 'q')\n",
        "creg_c0 = ClassicalRegister(2, 'c0')\n",
        "circuit = QuantumCircuit(qreg_q, creg_c0)\n",
        "\n",
        "circuit.h(qreg_q[0])\n",
        "circuit.cx(qreg_q[0], qreg_q[1])\n",
        "circuit.barrier(qreg_q[0], qreg_q[1])\n",
        "circuit.x(qreg_q[0])\n",
        "circuit.z(qreg_q[0])\n",
        "circuit.barrier(qreg_q[0], qreg_q[1])\n",
        "circuit.cx(qreg_q[0], qreg_q[1])\n",
        "circuit.h(qreg_q[0])\n",
        "circuit.barrier(qreg_q[0], qreg_q[1])\n",
        "circuit.measure(qreg_q[0], creg_c0[0])\n",
        "circuit.measure(qreg_q[1], creg_c0[1])\n",
        "circuits.append(circuit)\n",
        "circuit_drawer(circuit, output='text')"
      ],
      "metadata": {
        "colab": {
          "base_uri": "https://localhost:8080/",
          "height": 125
        },
        "id": "3S9Ceo95CNeZ",
        "outputId": "9c346015-ad5c-45f6-ed0a-2f4981e50af8"
      },
      "execution_count": 169,
      "outputs": [
        {
          "output_type": "execute_result",
          "data": {
            "text/plain": [
              "      ┌───┐      ░ ┌───┐┌───┐ ░      ┌───┐ ░ ┌─┐   \n",
              " q_0: ┤ H ├──■───░─┤ X ├┤ Z ├─░───■──┤ H ├─░─┤M├───\n",
              "      └───┘┌─┴─┐ ░ └───┘└───┘ ░ ┌─┴─┐└───┘ ░ └╥┘┌─┐\n",
              " q_1: ─────┤ X ├─░────────────░─┤ X ├──────░──╫─┤M├\n",
              "           └───┘ ░            ░ └───┘      ░  ║ └╥┘\n",
              "c0: 2/════════════════════════════════════════╩══╩═\n",
              "                                              0  1 "
            ],
            "text/html": [
              "<pre style=\"word-wrap: normal;white-space: pre;background: #fff0;line-height: 1.1;font-family: &quot;Courier New&quot;,Courier,monospace\">      ┌───┐      ░ ┌───┐┌───┐ ░      ┌───┐ ░ ┌─┐   \n",
              " q_0: ┤ H ├──■───░─┤ X ├┤ Z ├─░───■──┤ H ├─░─┤M├───\n",
              "      └───┘┌─┴─┐ ░ └───┘└───┘ ░ ┌─┴─┐└───┘ ░ └╥┘┌─┐\n",
              " q_1: ─────┤ X ├─░────────────░─┤ X ├──────░──╫─┤M├\n",
              "           └───┘ ░            ░ └───┘      ░  ║ └╥┘\n",
              "c0: 2/════════════════════════════════════════╩══╩═\n",
              "                                              0  1 </pre>"
            ]
          },
          "metadata": {},
          "execution_count": 169
        }
      ]
    },
    {
      "cell_type": "markdown",
      "source": [
        "## Plotting results of simulation"
      ],
      "metadata": {
        "id": "nWBh3cm4Cw_c"
      }
    },
    {
      "cell_type": "code",
      "source": [
        "# Preparing plot area\n",
        "fig, axs = plt.subplots(2, 2, figsize=(12, 10))\n",
        "axs = axs.flatten()  # flatten the 2D array for easier iteration\n",
        "# giving titles to subplots\n",
        "for i,t in enumerate([\"Classical bits (0,0)\",\"Classical bits (0,1)\",\"Classical bits(1,0)\",\"Classical bits(1,1)\"]):\n",
        "  axs[i].set_title(t)\n",
        "# running each circuit on simulator and plotting\n",
        "for i in range(4):\n",
        "  # Transpile for simulator\n",
        "  simulator = AerSimulator()\n",
        "  circ = transpile(circuits[i], simulator)\n",
        "  # Run and get counts\n",
        "  result = simulator.run(circ,shots=1024).result()\n",
        "  counts = result.get_counts(circ)\n",
        "  plot_histogram(counts, ax=axs[i])"
      ],
      "metadata": {
        "colab": {
          "base_uri": "https://localhost:8080/",
          "height": 860
        },
        "id": "tBBvxVzmCi4R",
        "outputId": "fea4ebc8-72af-477b-d5d7-0f458aadc4d2"
      },
      "execution_count": 170,
      "outputs": [
        {
          "output_type": "display_data",
          "data": {
            "text/plain": [
              "<Figure size 1200x1000 with 4 Axes>"
            ],
            "image/png": "[encoded data removed]"
          },
          "metadata": {}
        }
      ]
    },
    {
      "cell_type": "markdown",
      "source": [
        "## Conclusion\n",
        "\n",
        "The Dense coding program is run with random classical bits value on ibm kyiv using the ibm composer interface. the link for the same is :\n",
        "quantum.ibm.com/composer/files/new?initial=N4IgdghgtgpiBcIAiMwGcYAIDCB7AJgJZgDmIANCPjGgMYBOhADgC6G5gIgUgCOEaKFwDyABQCiAOQCKAQQDKAWUwAmAHQAGANwAdMMVoAbAK7VMOvjEOEARgEY1Bi7rB7e9GCUy8A2gBYAXRcGT0xaOx87IL0Qr1oVSOiwWLCNHxUkgAtvHw0snIyXbN8AZiTaAA8cvPIcqJdYAWMPAoDMAFoAPjCIvJcbCHpGGHpqgNrfer1GtGasUrausIS%2BvUIAM0wACnDMAF49zDsASkwq31X9TZ2VfcOTzAAvMf7B4dGL8bry89yvyfyn1eQ0IIzGE0SDRgTRanw63VoaUuMzm33hqUhehAAF8gA\n",
        "\n",
        "Job id: cyh10d901rbg008fre0g"
      ],
      "metadata": {
        "id": "I4LDCTdfKVM9"
      }
    },
    {
      "cell_type": "markdown",
      "source": [
        "# CHSH game"
      ],
      "metadata": {
        "id": "EjxLcbLlC3A-"
      }
    },
    {
      "cell_type": "code",
      "source": [
        "circuits = []"
      ],
      "metadata": {
        "id": "xiy9o3IyEuKS"
      },
      "execution_count": 171,
      "outputs": []
    },
    {
      "cell_type": "markdown",
      "source": [
        "## When (x,y) = (0,0)"
      ],
      "metadata": {
        "id": "AiNPZUcVC7Sg"
      }
    },
    {
      "cell_type": "code",
      "source": [
        "qreg_q = QuantumRegister(2, 'q')\n",
        "creg_c = ClassicalRegister(2, 'c')\n",
        "circuit = QuantumCircuit(qreg_q, creg_c)\n",
        "#preparing epr pair\n",
        "circuit.h(qreg_q[0])\n",
        "circuit.cx(qreg_q[0], qreg_q[1])\n",
        "circuit.barrier(qreg_q[0], qreg_q[1])\n",
        "# alice's measurement\n",
        "circuit.measure(qreg_q[0], creg_c[0])\n",
        "# Bob's measurement\n",
        "circuit.u(-3.14 / 4, 0, 0, qreg_q[1])\n",
        "circuit.measure(qreg_q[1], creg_c[1])\n",
        "\n",
        "circuits.append(circuit)\n",
        "circuit_drawer(circuit, output='text')"
      ],
      "metadata": {
        "colab": {
          "base_uri": "https://localhost:8080/",
          "height": 125
        },
        "id": "uPGiuI1tC6XC",
        "outputId": "b0521b34-b080-4f8a-8294-8e20ec9e05d4"
      },
      "execution_count": 172,
      "outputs": [
        {
          "output_type": "execute_result",
          "data": {
            "text/plain": [
              "     ┌───┐      ░ ┌─┐                    \n",
              "q_0: ┤ H ├──■───░─┤M├────────────────────\n",
              "     └───┘┌─┴─┐ ░ └╥┘┌───────────────┐┌─┐\n",
              "q_1: ─────┤ X ├─░──╫─┤ U(-0.785,0,0) ├┤M├\n",
              "          └───┘ ░  ║ └───────────────┘└╥┘\n",
              "c: 2/══════════════╩═══════════════════╩═\n",
              "                   0                   1 "
            ],
            "text/html": [
              "<pre style=\"word-wrap: normal;white-space: pre;background: #fff0;line-height: 1.1;font-family: &quot;Courier New&quot;,Courier,monospace\">     ┌───┐      ░ ┌─┐                    \n",
              "q_0: ┤ H ├──■───░─┤M├────────────────────\n",
              "     └───┘┌─┴─┐ ░ └╥┘┌───────────────┐┌─┐\n",
              "q_1: ─────┤ X ├─░──╫─┤ U(-0.785,0,0) ├┤M├\n",
              "          └───┘ ░  ║ └───────────────┘└╥┘\n",
              "c: 2/══════════════╩═══════════════════╩═\n",
              "                   0                   1 </pre>"
            ]
          },
          "metadata": {},
          "execution_count": 172
        }
      ]
    },
    {
      "cell_type": "markdown",
      "source": [
        "## When (x,y) = (0,1)"
      ],
      "metadata": {
        "id": "9x4TP7EdFCIJ"
      }
    },
    {
      "cell_type": "code",
      "source": [
        "qreg_q = QuantumRegister(2, 'q')\n",
        "creg_c = ClassicalRegister(2, 'c')\n",
        "circuit = QuantumCircuit(qreg_q, creg_c)\n",
        "\n",
        "# preparing epr pair\n",
        "circuit.h(qreg_q[0])\n",
        "circuit.cx(qreg_q[0], qreg_q[1])\n",
        "circuit.barrier(qreg_q[0], qreg_q[1])\n",
        "# Alice's measurement\n",
        "circuit.measure(qreg_q[0], creg_c[0])\n",
        "# Bob's measurement\n",
        "circuit.u(3.14 / 4, 0, 0, qreg_q[1])\n",
        "circuit.measure(qreg_q[1], creg_c[1])\n",
        "\n",
        "circuits.append(circuit)\n",
        "circuit_drawer(circuit, output='text')"
      ],
      "metadata": {
        "colab": {
          "base_uri": "https://localhost:8080/",
          "height": 125
        },
        "id": "wlM4Ti7UFGT_",
        "outputId": "9068d0da-c864-41ad-a3e5-7456311f595c"
      },
      "execution_count": 173,
      "outputs": [
        {
          "output_type": "execute_result",
          "data": {
            "text/plain": [
              "     ┌───┐      ░ ┌─┐                   \n",
              "q_0: ┤ H ├──■───░─┤M├───────────────────\n",
              "     └───┘┌─┴─┐ ░ └╥┘┌──────────────┐┌─┐\n",
              "q_1: ─────┤ X ├─░──╫─┤ U(0.785,0,0) ├┤M├\n",
              "          └───┘ ░  ║ └──────────────┘└╥┘\n",
              "c: 2/══════════════╩══════════════════╩═\n",
              "                   0                  1 "
            ],
            "text/html": [
              "<pre style=\"word-wrap: normal;white-space: pre;background: #fff0;line-height: 1.1;font-family: &quot;Courier New&quot;,Courier,monospace\">     ┌───┐      ░ ┌─┐                   \n",
              "q_0: ┤ H ├──■───░─┤M├───────────────────\n",
              "     └───┘┌─┴─┐ ░ └╥┘┌──────────────┐┌─┐\n",
              "q_1: ─────┤ X ├─░──╫─┤ U(0.785,0,0) ├┤M├\n",
              "          └───┘ ░  ║ └──────────────┘└╥┘\n",
              "c: 2/══════════════╩══════════════════╩═\n",
              "                   0                  1 </pre>"
            ]
          },
          "metadata": {},
          "execution_count": 173
        }
      ]
    },
    {
      "cell_type": "markdown",
      "source": [
        "## When (x,y) = (1,0)"
      ],
      "metadata": {
        "id": "cXi4S4lxFTEy"
      }
    },
    {
      "cell_type": "code",
      "source": [
        "qreg_q = QuantumRegister(2, 'q')\n",
        "creg_c = ClassicalRegister(2, 'c')\n",
        "circuit = QuantumCircuit(qreg_q, creg_c)\n",
        "\n",
        "# preparing epr pair\n",
        "circuit.h(qreg_q[0])\n",
        "circuit.cx(qreg_q[0], qreg_q[1])\n",
        "circuit.barrier(qreg_q[0], qreg_q[1])\n",
        "# Alice's measurement\n",
        "circuit.u(-3.14 / 2, 0, 0, qreg_q[0])\n",
        "circuit.measure(qreg_q[0], creg_c[0])\n",
        "# Bob's measurement\n",
        "circuit.barrier(qreg_q[0], qreg_q[1])\n",
        "circuit.u(-3.14 / 4, 0, 0, qreg_q[1])\n",
        "circuit.measure(qreg_q[1], creg_c[1])\n",
        "\n",
        "circuits.append(circuit)\n",
        "circuit_drawer(circuit, output='text')"
      ],
      "metadata": {
        "colab": {
          "base_uri": "https://localhost:8080/",
          "height": 125
        },
        "id": "z4zB6qaZFXDs",
        "outputId": "21c7b988-7c63-4853-e254-c0b6696829a8"
      },
      "execution_count": 174,
      "outputs": [
        {
          "output_type": "execute_result",
          "data": {
            "text/plain": [
              "     ┌───┐      ░ ┌──────────────┐┌─┐ ░                     \n",
              "q_0: ┤ H ├──■───░─┤ U(-1.57,0,0) ├┤M├─░─────────────────────\n",
              "     └───┘┌─┴─┐ ░ └──────────────┘└╥┘ ░ ┌───────────────┐┌─┐\n",
              "q_1: ─────┤ X ├─░──────────────────╫──░─┤ U(-0.785,0,0) ├┤M├\n",
              "          └───┘ ░                  ║  ░ └───────────────┘└╥┘\n",
              "c: 2/══════════════════════════════╩══════════════════════╩═\n",
              "                                   0                      1 "
            ],
            "text/html": [
              "<pre style=\"word-wrap: normal;white-space: pre;background: #fff0;line-height: 1.1;font-family: &quot;Courier New&quot;,Courier,monospace\">     ┌───┐      ░ ┌──────────────┐┌─┐ ░                     \n",
              "q_0: ┤ H ├──■───░─┤ U(-1.57,0,0) ├┤M├─░─────────────────────\n",
              "     └───┘┌─┴─┐ ░ └──────────────┘└╥┘ ░ ┌───────────────┐┌─┐\n",
              "q_1: ─────┤ X ├─░──────────────────╫──░─┤ U(-0.785,0,0) ├┤M├\n",
              "          └───┘ ░                  ║  ░ └───────────────┘└╥┘\n",
              "c: 2/══════════════════════════════╩══════════════════════╩═\n",
              "                                   0                      1 </pre>"
            ]
          },
          "metadata": {},
          "execution_count": 174
        }
      ]
    },
    {
      "cell_type": "markdown",
      "source": [
        "## When (x,y) = (1,1)"
      ],
      "metadata": {
        "id": "LZ6wS9WjFRS6"
      }
    },
    {
      "cell_type": "code",
      "source": [
        "qreg_q = QuantumRegister(2, 'q')\n",
        "creg_c = ClassicalRegister(2, 'c')\n",
        "circuit = QuantumCircuit(qreg_q, creg_c)\n",
        "\n",
        "#preparing entangled state\n",
        "circuit.h(qreg_q[0])\n",
        "circuit.cx(qreg_q[0], qreg_q[1])\n",
        "circuit.barrier(qreg_q[0], qreg_q[1])\n",
        "\n",
        "# Alice measurement\n",
        "circuit.u(-3.14 / 2, 0, 0, qreg_q[0])\n",
        "circuit.measure(qreg_q[0], creg_c[0])\n",
        "circuit.barrier(qreg_q[0], qreg_q[1])\n",
        "\n",
        "#bob measurement\n",
        "circuit.u(3.14 / 4, 0, 0, qreg_q[1])\n",
        "circuit.measure(qreg_q[1], creg_c[1])\n",
        "\n",
        "circuits.append(circuit)\n",
        "circuit_drawer(circuit, output='text')"
      ],
      "metadata": {
        "colab": {
          "base_uri": "https://localhost:8080/",
          "height": 125
        },
        "id": "RCDFMcrdGUuS",
        "outputId": "fc63b47c-3a72-4403-8157-c49401839b26"
      },
      "execution_count": 175,
      "outputs": [
        {
          "output_type": "execute_result",
          "data": {
            "text/plain": [
              "     ┌───┐      ░ ┌──────────────┐┌─┐ ░                    \n",
              "q_0: ┤ H ├──■───░─┤ U(-1.57,0,0) ├┤M├─░────────────────────\n",
              "     └───┘┌─┴─┐ ░ └──────────────┘└╥┘ ░ ┌──────────────┐┌─┐\n",
              "q_1: ─────┤ X ├─░──────────────────╫──░─┤ U(0.785,0,0) ├┤M├\n",
              "          └───┘ ░                  ║  ░ └──────────────┘└╥┘\n",
              "c: 2/══════════════════════════════╩═════════════════════╩═\n",
              "                                   0                     1 "
            ],
            "text/html": [
              "<pre style=\"word-wrap: normal;white-space: pre;background: #fff0;line-height: 1.1;font-family: &quot;Courier New&quot;,Courier,monospace\">     ┌───┐      ░ ┌──────────────┐┌─┐ ░                    \n",
              "q_0: ┤ H ├──■───░─┤ U(-1.57,0,0) ├┤M├─░────────────────────\n",
              "     └───┘┌─┴─┐ ░ └──────────────┘└╥┘ ░ ┌──────────────┐┌─┐\n",
              "q_1: ─────┤ X ├─░──────────────────╫──░─┤ U(0.785,0,0) ├┤M├\n",
              "          └───┘ ░                  ║  ░ └──────────────┘└╥┘\n",
              "c: 2/══════════════════════════════╩═════════════════════╩═\n",
              "                                   0                     1 </pre>"
            ]
          },
          "metadata": {},
          "execution_count": 175
        }
      ]
    },
    {
      "cell_type": "markdown",
      "source": [
        "## Plotting results"
      ],
      "metadata": {
        "id": "QaRK5NQLGgwr"
      }
    },
    {
      "cell_type": "code",
      "source": [
        "# Preparing plot area\n",
        "fig, axs = plt.subplots(2, 2, figsize=(12, 10))\n",
        "axs = axs.flatten()  # flatten the 2D array for easier iteration\n",
        "# giving titles to subplots\n",
        "for i,t in enumerate([\"(x,y) = (0,0)\",\"(x,y) = (0,1)\",\"(x,y) = (1,0)\",\"(x,y) = (1,1)\"]):\n",
        "  axs[i].set_title(t)\n",
        "for i in range(4):\n",
        "  # Transpile for simulator\n",
        "  simulator = AerSimulator()\n",
        "  circ = transpile(circuits[i], simulator)\n",
        "  # Run and get counts\n",
        "  result = simulator.run(circ,shots=1024).result()\n",
        "  counts = result.get_counts(circ)\n",
        "\n",
        "  # Counting outcomes where the two qubits are the same vs. different to differentiate between win and loss\n",
        "  same_count = 0\n",
        "  different_count = 0\n",
        "\n",
        "  for outcome, count in counts.items():\n",
        "      if outcome[0] == outcome[1]:\n",
        "          same_count += count\n",
        "      else:\n",
        "          different_count += count\n",
        "  if (i<3):grouped_counts = {\"Win\": same_count, \"Loss\": different_count}\n",
        "  else: grouped_counts = {\"Win\": different_count, \"Loss\": same_count}\n",
        "\n",
        "  plot_histogram(grouped_counts, ax = axs[i])"
      ],
      "metadata": {
        "colab": {
          "base_uri": "https://localhost:8080/",
          "height": 872
        },
        "id": "rTWFQTtuGjcM",
        "outputId": "9f4ea218-6ef9-4492-dcd2-ba422e70bd1d"
      },
      "execution_count": 176,
      "outputs": [
        {
          "output_type": "display_data",
          "data": {
            "text/plain": [
              "<Figure size 1200x1000 with 4 Axes>"
            ],
            "image/png": "[encoded data removed]"
          },
          "metadata": {}
        }
      ]
    },
    {
      "cell_type": "markdown",
      "source": [
        "## Conclusion\n",
        "The CHSH game is run with (x,y) = (0,1) value on ibm brisbane using the ibm composer interface. the link for the same is : quantum.ibm.com/composer/files/new?initial=N4IgdghgtgpiBcIDCAJAyigBAc2jAziADQgAmBAxgE4CWADgC40D2YCIxIAjhPlOwHkACgFEAcgEUAgmgCymAEwA6AAwBuADpgaYCgBsAruUwbuMPTQBGARiU6KpzWC1cqMbJi4BtACwBdJ2p3TAprL2sArSCPChVwyN03GK8FBIALTy8VdMzUpwzvAGYEigAPTOyiTIinWF4DN1y-TABaAD4QsOzamHrGoub2kLjurUsIKloYKgq-Ku8arRoAM0wACljMAF4tzGsASkwDNZa6GgB6BSqVa8PvUbA6-AaYWdaOiiyE8cmaadn5vEnCt1qFtrsVIdjqcLj5rrdqgkQRtrOC9lC1mdznDMDdcXcgVoni9Ee8QoS2ABfIA\n",
        "\n",
        "Job ID: cyh1x2mrta1g008v8aqg"
      ],
      "metadata": {
        "id": "bM8YbXfdJ63k"
      }
    },
    {
      "cell_type": "markdown",
      "source": [
        "# GHZ Game"
      ],
      "metadata": {
        "id": "AyRYq6dYLWUR"
      }
    },
    {
      "cell_type": "markdown",
      "source": [
        "## When (x,y,z) = (0,0,0)"
      ],
      "metadata": {
        "id": "wXRf_gN3L3E7"
      }
    },
    {
      "cell_type": "code",
      "source": [
        "circuits = []"
      ],
      "metadata": {
        "id": "_91hAsJRMNqm"
      },
      "execution_count": 177,
      "outputs": []
    },
    {
      "cell_type": "code",
      "source": [
        "qreg_q = QuantumRegister(3, 'q')\n",
        "creg_c = ClassicalRegister(3, 'c')\n",
        "circuit = QuantumCircuit(qreg_q, creg_c)\n",
        "\n",
        "# Preparing GHZ state\n",
        "circuit.h(qreg_q[0])\n",
        "circuit.cx(qreg_q[0], qreg_q[1])\n",
        "circuit.cx(qreg_q[0], qreg_q[2])\n",
        "circuit.barrier(qreg_q[0], qreg_q[1], qreg_q[2])\n",
        "# Doing respective measurements\n",
        "circuit.h(qreg_q[0])\n",
        "circuit.h(qreg_q[1])\n",
        "circuit.h(qreg_q[2])\n",
        "circuit.measure(qreg_q[0], creg_c[0])\n",
        "circuit.measure(qreg_q[1], creg_c[1])\n",
        "circuit.measure(qreg_q[2], creg_c[2])\n",
        "\n",
        "circuits.append(circuit)\n",
        "circuit_drawer(circuit, output='text')"
      ],
      "metadata": {
        "colab": {
          "base_uri": "https://localhost:8080/",
          "height": 156
        },
        "id": "gdoK04nHLYX2",
        "outputId": "36d083b2-dbaa-4131-ad4d-6de53e4f4419"
      },
      "execution_count": 178,
      "outputs": [
        {
          "output_type": "execute_result",
          "data": {
            "text/plain": [
              "     ┌───┐           ░ ┌───┐┌─┐      \n",
              "q_0: ┤ H ├──■────■───░─┤ H ├┤M├──────\n",
              "     └───┘┌─┴─┐  │   ░ ├───┤└╥┘┌─┐   \n",
              "q_1: ─────┤ X ├──┼───░─┤ H ├─╫─┤M├───\n",
              "          └───┘┌─┴─┐ ░ ├───┤ ║ └╥┘┌─┐\n",
              "q_2: ──────────┤ X ├─░─┤ H ├─╫──╫─┤M├\n",
              "               └───┘ ░ └───┘ ║  ║ └╥┘\n",
              "c: 3/════════════════════════╩══╩══╩═\n",
              "                             0  1  2 "
            ],
            "text/html": [
              "<pre style=\"word-wrap: normal;white-space: pre;background: #fff0;line-height: 1.1;font-family: &quot;Courier New&quot;,Courier,monospace\">     ┌───┐           ░ ┌───┐┌─┐      \n",
              "q_0: ┤ H ├──■────■───░─┤ H ├┤M├──────\n",
              "     └───┘┌─┴─┐  │   ░ ├───┤└╥┘┌─┐   \n",
              "q_1: ─────┤ X ├──┼───░─┤ H ├─╫─┤M├───\n",
              "          └───┘┌─┴─┐ ░ ├───┤ ║ └╥┘┌─┐\n",
              "q_2: ──────────┤ X ├─░─┤ H ├─╫──╫─┤M├\n",
              "               └───┘ ░ └───┘ ║  ║ └╥┘\n",
              "c: 3/════════════════════════╩══╩══╩═\n",
              "                             0  1  2 </pre>"
            ]
          },
          "metadata": {},
          "execution_count": 178
        }
      ]
    },
    {
      "cell_type": "markdown",
      "source": [
        "# When (x,y,z) = (0,1,1)"
      ],
      "metadata": {
        "id": "BooqMb59MTwA"
      }
    },
    {
      "cell_type": "code",
      "source": [
        "qreg_q = QuantumRegister(3, 'q')\n",
        "creg_c = ClassicalRegister(3, 'c')\n",
        "circuit = QuantumCircuit(qreg_q, creg_c)\n",
        "\n",
        "# Preparing GHZ state\n",
        "circuit.h(qreg_q[0])\n",
        "circuit.cx(qreg_q[0], qreg_q[1])\n",
        "circuit.cx(qreg_q[0], qreg_q[2])\n",
        "circuit.barrier(qreg_q[0], qreg_q[1], qreg_q[2])\n",
        "# Doing respective measurements\n",
        "circuit.sdg(qreg_q[0])\n",
        "circuit.sdg(qreg_q[1])\n",
        "circuit.h(qreg_q[1])\n",
        "circuit.h(qreg_q[2])\n",
        "circuit.h(qreg_q[0])\n",
        "circuit.measure(qreg_q[0], creg_c[0])\n",
        "circuit.measure(qreg_q[1], creg_c[1])\n",
        "circuit.measure(qreg_q[2], creg_c[2])\n",
        "\n",
        "circuits.append(circuit)\n",
        "circuit_drawer(circuit, output='text')"
      ],
      "metadata": {
        "colab": {
          "base_uri": "https://localhost:8080/",
          "height": 156
        },
        "id": "-p2yqFCiMYyP",
        "outputId": "de983927-dba0-42ab-a912-f7e5a10148a0"
      },
      "execution_count": 179,
      "outputs": [
        {
          "output_type": "execute_result",
          "data": {
            "text/plain": [
              "     ┌───┐           ░ ┌─────┐┌───┐┌─┐   \n",
              "q_0: ┤ H ├──■────■───░─┤ Sdg ├┤ H ├┤M├───\n",
              "     └───┘┌─┴─┐  │   ░ ├─────┤├───┤└╥┘┌─┐\n",
              "q_1: ─────┤ X ├──┼───░─┤ Sdg ├┤ H ├─╫─┤M├\n",
              "          └───┘┌─┴─┐ ░ └┬───┬┘└┬─┬┘ ║ └╥┘\n",
              "q_2: ──────────┤ X ├─░──┤ H ├──┤M├──╫──╫─\n",
              "               └───┘ ░  └───┘  └╥┘  ║  ║ \n",
              "c: 3/═══════════════════════════╩═══╩══╩═\n",
              "                                2   0  1 "
            ],
            "text/html": [
              "<pre style=\"word-wrap: normal;white-space: pre;background: #fff0;line-height: 1.1;font-family: &quot;Courier New&quot;,Courier,monospace\">     ┌───┐           ░ ┌─────┐┌───┐┌─┐   \n",
              "q_0: ┤ H ├──■────■───░─┤ Sdg ├┤ H ├┤M├───\n",
              "     └───┘┌─┴─┐  │   ░ ├─────┤├───┤└╥┘┌─┐\n",
              "q_1: ─────┤ X ├──┼───░─┤ Sdg ├┤ H ├─╫─┤M├\n",
              "          └───┘┌─┴─┐ ░ └┬───┬┘└┬─┬┘ ║ └╥┘\n",
              "q_2: ──────────┤ X ├─░──┤ H ├──┤M├──╫──╫─\n",
              "               └───┘ ░  └───┘  └╥┘  ║  ║ \n",
              "c: 3/═══════════════════════════╩═══╩══╩═\n",
              "                                2   0  1 </pre>"
            ]
          },
          "metadata": {},
          "execution_count": 179
        }
      ]
    },
    {
      "cell_type": "markdown",
      "source": [
        "## When (x,y,z) = (1,0,1)"
      ],
      "metadata": {
        "id": "TtwAZTIjMli1"
      }
    },
    {
      "cell_type": "code",
      "source": [
        "qreg_q = QuantumRegister(3, 'q')\n",
        "creg_c = ClassicalRegister(3, 'c')\n",
        "circuit = QuantumCircuit(qreg_q, creg_c)\n",
        "\n",
        "# preparing GHZ state\n",
        "circuit.h(qreg_q[0])\n",
        "circuit.cx(qreg_q[0], qreg_q[1])\n",
        "circuit.cx(qreg_q[0], qreg_q[2])\n",
        "circuit.barrier(qreg_q[0], qreg_q[1], qreg_q[2])\n",
        "# Doing respective measurements\n",
        "circuit.sdg(qreg_q[0])\n",
        "circuit.h(qreg_q[1])\n",
        "circuit.sdg(qreg_q[2])\n",
        "circuit.h(qreg_q[0])\n",
        "circuit.h(qreg_q[2])\n",
        "circuit.barrier(qreg_q[0], qreg_q[1], qreg_q[2])\n",
        "circuit.measure(qreg_q[1], creg_c[1])\n",
        "circuit.measure(qreg_q[0], creg_c[0])\n",
        "circuit.measure(qreg_q[2], creg_c[2])\n",
        "\n",
        "circuits.append(circuit)\n",
        "circuit_drawer(circuit, output='text')"
      ],
      "metadata": {
        "colab": {
          "base_uri": "https://localhost:8080/",
          "height": 156
        },
        "id": "NYEVQJKtMpcU",
        "outputId": "3400e6ff-f349-4403-eb5d-11c57bf6a60f"
      },
      "execution_count": 180,
      "outputs": [
        {
          "output_type": "execute_result",
          "data": {
            "text/plain": [
              "     ┌───┐           ░ ┌─────┐┌───┐ ░    ┌─┐   \n",
              "q_0: ┤ H ├──■────■───░─┤ Sdg ├┤ H ├─░────┤M├───\n",
              "     └───┘┌─┴─┐  │   ░ └┬───┬┘└───┘ ░ ┌─┐└╥┘   \n",
              "q_1: ─────┤ X ├──┼───░──┤ H ├───────░─┤M├─╫────\n",
              "          └───┘┌─┴─┐ ░ ┌┴───┴┐┌───┐ ░ └╥┘ ║ ┌─┐\n",
              "q_2: ──────────┤ X ├─░─┤ Sdg ├┤ H ├─░──╫──╫─┤M├\n",
              "               └───┘ ░ └─────┘└───┘ ░  ║  ║ └╥┘\n",
              "c: 3/══════════════════════════════════╩══╩══╩═\n",
              "                                       1  0  2 "
            ],
            "text/html": [
              "<pre style=\"word-wrap: normal;white-space: pre;background: #fff0;line-height: 1.1;font-family: &quot;Courier New&quot;,Courier,monospace\">     ┌───┐           ░ ┌─────┐┌───┐ ░    ┌─┐   \n",
              "q_0: ┤ H ├──■────■───░─┤ Sdg ├┤ H ├─░────┤M├───\n",
              "     └───┘┌─┴─┐  │   ░ └┬───┬┘└───┘ ░ ┌─┐└╥┘   \n",
              "q_1: ─────┤ X ├──┼───░──┤ H ├───────░─┤M├─╫────\n",
              "          └───┘┌─┴─┐ ░ ┌┴───┴┐┌───┐ ░ └╥┘ ║ ┌─┐\n",
              "q_2: ──────────┤ X ├─░─┤ Sdg ├┤ H ├─░──╫──╫─┤M├\n",
              "               └───┘ ░ └─────┘└───┘ ░  ║  ║ └╥┘\n",
              "c: 3/══════════════════════════════════╩══╩══╩═\n",
              "                                       1  0  2 </pre>"
            ]
          },
          "metadata": {},
          "execution_count": 180
        }
      ]
    },
    {
      "cell_type": "markdown",
      "source": [
        "## When (x,y,z) = (1,1,0)"
      ],
      "metadata": {
        "id": "fFF0Ct6mM2pC"
      }
    },
    {
      "cell_type": "code",
      "source": [
        "qreg_q = QuantumRegister(3, 'q')\n",
        "creg_c = ClassicalRegister(3, 'c')\n",
        "circuit = QuantumCircuit(qreg_q, creg_c)\n",
        "\n",
        "# Preparing GHZ state\n",
        "circuit.h(qreg_q[0])\n",
        "circuit.cx(qreg_q[0], qreg_q[1])\n",
        "circuit.cx(qreg_q[0], qreg_q[2])\n",
        "circuit.barrier(qreg_q[0], qreg_q[1], qreg_q[2])\n",
        "\n",
        "# Doing respective measurements\n",
        "circuit.sdg(qreg_q[1])\n",
        "circuit.h(qreg_q[1])\n",
        "circuit.sdg(qreg_q[2])\n",
        "circuit.h(qreg_q[0])\n",
        "circuit.h(qreg_q[2])\n",
        "circuit.barrier(qreg_q[0], qreg_q[1], qreg_q[2])\n",
        "circuit.measure(qreg_q[1], creg_c[1])\n",
        "circuit.measure(qreg_q[0], creg_c[0])\n",
        "circuit.measure(qreg_q[2], creg_c[2])\n",
        "\n",
        "circuits.append(circuit)\n",
        "circuit_drawer(circuit, output='text')"
      ],
      "metadata": {
        "colab": {
          "base_uri": "https://localhost:8080/",
          "height": 156
        },
        "id": "Umrjz54AM7j1",
        "outputId": "c2687f62-fe85-444e-c038-301c721d5392"
      },
      "execution_count": 181,
      "outputs": [
        {
          "output_type": "execute_result",
          "data": {
            "text/plain": [
              "     ┌───┐           ░  ┌───┐       ░    ┌─┐   \n",
              "q_0: ┤ H ├──■────■───░──┤ H ├───────░────┤M├───\n",
              "     └───┘┌─┴─┐  │   ░ ┌┴───┴┐┌───┐ ░ ┌─┐└╥┘   \n",
              "q_1: ─────┤ X ├──┼───░─┤ Sdg ├┤ H ├─░─┤M├─╫────\n",
              "          └───┘┌─┴─┐ ░ ├─────┤├───┤ ░ └╥┘ ║ ┌─┐\n",
              "q_2: ──────────┤ X ├─░─┤ Sdg ├┤ H ├─░──╫──╫─┤M├\n",
              "               └───┘ ░ └─────┘└───┘ ░  ║  ║ └╥┘\n",
              "c: 3/══════════════════════════════════╩══╩══╩═\n",
              "                                       1  0  2 "
            ],
            "text/html": [
              "<pre style=\"word-wrap: normal;white-space: pre;background: #fff0;line-height: 1.1;font-family: &quot;Courier New&quot;,Courier,monospace\">     ┌───┐           ░  ┌───┐       ░    ┌─┐   \n",
              "q_0: ┤ H ├──■────■───░──┤ H ├───────░────┤M├───\n",
              "     └───┘┌─┴─┐  │   ░ ┌┴───┴┐┌───┐ ░ ┌─┐└╥┘   \n",
              "q_1: ─────┤ X ├──┼───░─┤ Sdg ├┤ H ├─░─┤M├─╫────\n",
              "          └───┘┌─┴─┐ ░ ├─────┤├───┤ ░ └╥┘ ║ ┌─┐\n",
              "q_2: ──────────┤ X ├─░─┤ Sdg ├┤ H ├─░──╫──╫─┤M├\n",
              "               └───┘ ░ └─────┘└───┘ ░  ║  ║ └╥┘\n",
              "c: 3/══════════════════════════════════╩══╩══╩═\n",
              "                                       1  0  2 </pre>"
            ]
          },
          "metadata": {},
          "execution_count": 181
        }
      ]
    },
    {
      "cell_type": "markdown",
      "source": [
        "## Plotting results"
      ],
      "metadata": {
        "id": "vSzE45eDNZ1D"
      }
    },
    {
      "cell_type": "code",
      "source": [
        "# Preparing plot area\n",
        "fig, axs = plt.subplots(2, 2, figsize=(12, 10))\n",
        "axs = axs.flatten()  # flatten the 2D array for easier iteration\n",
        "# giving titles to subplots\n",
        "for i,t in enumerate([\"(x,y,z) = (0,0,0)\",\"(x,y,z) = (0,1,1)\",\"(x,y,z) = (1,0,1)\",\"(x,y,z) = (1,1,0)\"]):\n",
        "  axs[i].set_title(t)\n",
        "for i in range(4):\n",
        "  # Transpile for simulator\n",
        "  simulator = AerSimulator()\n",
        "  circ = transpile(circuits[i], simulator)\n",
        "  # Run and get counts\n",
        "  result = simulator.run(circ,shots=1024).result()\n",
        "  counts = result.get_counts(circ)\n",
        "\n",
        "  plot_histogram(counts, ax = axs[i])"
      ],
      "metadata": {
        "colab": {
          "base_uri": "https://localhost:8080/",
          "height": 868
        },
        "id": "03apEqHFNne4",
        "outputId": "87456bf2-b6a7-4175-d402-47baf6f83ac9"
      },
      "execution_count": 182,
      "outputs": [
        {
          "output_type": "display_data",
          "data": {
            "text/plain": [
              "<Figure size 1200x1000 with 4 Axes>"
            ],
            "image/png": "[encoded data removed]"
          },
          "metadata": {}
        }
      ]
    },
    {
      "cell_type": "markdown",
      "source": [
        "## Conclusion\n",
        "The GHZ game program with (x,y,z) = (0,1,1) values is also run on QPU using the composer interface. link is here: quantum.ibm.com/composer/files/new?initial=N4IgdghgtgpiBcIDiAJAWgAgObTgGhABMYBnAYwCcBLABwBcqB7MBEEAgRwhKlYHkACgFEAcgEUAggGUAshgBMAOgAMAbgA6YKmDIAbAK7EM6kBxi6qAIwCMi7WRMawmjhRhYMHANoBmALpOlO4YZL4BmgAWnl7K4ToAHtGxeNHWcWSJ3snR8nEkhB7eaU75hTFxUVkVOdVFcZYQFNQwFEl%2BKXUdXrlOsNz6bql%2BGAC0AHwhXsWafSQDMG2jE6GxvTD9g965S5M9miAAvkA\n",
        "\n",
        "Job ID: cyh2yharta1g008v8er0"
      ],
      "metadata": {
        "id": "Fh8pOT-SP0bd"
      }
    }
  ]
}